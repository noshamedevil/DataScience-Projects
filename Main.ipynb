{
  "nbformat": 4,
  "nbformat_minor": 0,
  "metadata": {
    "kernelspec": {
      "display_name": "Python 3",
      "language": "python",
      "name": "python3"
    },
    "language_info": {
      "codemirror_mode": {
        "name": "ipython",
        "version": 3
      },
      "file_extension": ".py",
      "mimetype": "text/x-python",
      "name": "python",
      "nbconvert_exporter": "python",
      "pygments_lexer": "ipython3",
      "version": "3.8.5"
    },
    "colab": {
      "name": "Main.ipynb",
      "provenance": [],
      "include_colab_link": true
    }
  },
  "cells": [
    {
      "cell_type": "markdown",
      "metadata": {
        "id": "view-in-github",
        "colab_type": "text"
      },
      "source": [
        "<a href=\"https://colab.research.google.com/github/noshamedevil/DataScience-Projects/blob/master/Main.ipynb\" target=\"_parent\"><img src=\"https://colab.research.google.com/assets/colab-badge.svg\" alt=\"Open In Colab\"/></a>"
      ]
    },
    {
      "cell_type": "markdown",
      "metadata": {
        "id": "WwTStOwJJRZS"
      },
      "source": [
        "# Introduction"
      ]
    },
    {
      "cell_type": "markdown",
      "metadata": {
        "id": "QRPNa3MHJRZV"
      },
      "source": [
        "This notebook will try to predict BTC price through:\n",
        "- RNN: Recurrent Neural Network\n",
        "- LSTM: Long Short Term Memory\n",
        "- ES: Early Stopping\n",
        "- Single-Step and Multi-Step time series forecasting\n",
        "- Univariate (only input Price) and Multivariate (inputs Price and Volume)"
      ]
    },
    {
      "cell_type": "markdown",
      "metadata": {
        "id": "l-xDAfcbJRZW"
      },
      "source": [
        "https://nbviewer.jupyter.org/github/sjuanandres0/crypto/blob/main/Main.ipynb"
      ]
    },
    {
      "cell_type": "markdown",
      "metadata": {
        "id": "UPdyEH5bJRZX"
      },
      "source": [
        "# Parameter settings"
      ]
    },
    {
      "cell_type": "code",
      "metadata": {
        "id": "nUmbBbnRJRZY"
      },
      "source": [
        "# number of total past observations from the original dataset to be considered\n",
        "n_past_total = 1200\n",
        "\n",
        "# number of past observations to be considered for the LSTM training and prediction\n",
        "n_past = 30\n",
        "\n",
        "# number of future datapoints to predict (if higher than 1, the model switch to Multi-Step)\n",
        "n_future = 10\n",
        "\n",
        "# activation function used for the RNN (softsign, relu, sigmoid)\n",
        "activation = 'softsign'\n",
        "\n",
        "# dropout for the hidden layers\n",
        "dropout = 0.2\n",
        "\n",
        "# number of hidden layers\n",
        "n_layers = 8\n",
        "\n",
        "# number of neurons of the hidden layers\n",
        "n_neurons = 20\n",
        "\n",
        "# features to be considered for training (if only one is Close, then its Univariate, if more, then it's Multivariate)\n",
        "features = ['Close', 'Volume']\n",
        "#features = ['Close']\n",
        "\n",
        "# number of inputs features (if higher than 1, )\n",
        "n_features = len(features)\n",
        "\n",
        "# patience for the early stopping (number of epochs)\n",
        "patience = 25\n",
        "\n",
        "# optimizer (adam, RMSprop)\n",
        "optimizer='adam'"
      ],
      "execution_count": 1,
      "outputs": []
    },
    {
      "cell_type": "markdown",
      "metadata": {
        "id": "0yBY80mAJRZZ"
      },
      "source": [
        "# Importing libraries"
      ]
    },
    {
      "cell_type": "code",
      "metadata": {
        "id": "EXhxnWpQJRZa"
      },
      "source": [
        "import os\n",
        "import numpy as np\n",
        "np.set_printoptions(suppress=True)\n",
        "import pandas as pd\n",
        "pd.set_option('display.float_format', lambda x: '%.3f' % x) #avoid scientific notation\n",
        "import datetime\n",
        "import math\n",
        "from matplotlib import pyplot as plt\n",
        "from keras.models import Sequential, load_model\n",
        "from keras.layers import Dense, LSTM, Dropout\n",
        "from keras.callbacks import EarlyStopping\n",
        "from sklearn.preprocessing import MinMaxScaler\n",
        "from sklearn.metrics import mean_squared_error, mean_absolute_error, explained_variance_score\n",
        "import plotly.express as px\n",
        "import plotly.graph_objects as go\n",
        "from plotly.subplots import make_subplots\n",
        "from IPython.display import Image"
      ],
      "execution_count": 2,
      "outputs": []
    },
    {
      "cell_type": "markdown",
      "metadata": {
        "id": "3kYjEekKJRZb"
      },
      "source": [
        "# Importing the files"
      ]
    },
    {
      "cell_type": "code",
      "metadata": {
        "scrolled": false,
        "colab": {
          "base_uri": "https://localhost:8080/",
          "height": 424
        },
        "id": "XZSQl3kAJRZb",
        "outputId": "0ba229e9-e8e4-424d-8b65-bf8350437a6a"
      },
      "source": [
        "# reading csv\n",
        "dataset = pd.read_csv('/content/BTC-USD.csv')\n",
        "dataset"
      ],
      "execution_count": 3,
      "outputs": [
        {
          "output_type": "execute_result",
          "data": {
            "text/html": [
              "<div>\n",
              "<style scoped>\n",
              "    .dataframe tbody tr th:only-of-type {\n",
              "        vertical-align: middle;\n",
              "    }\n",
              "\n",
              "    .dataframe tbody tr th {\n",
              "        vertical-align: top;\n",
              "    }\n",
              "\n",
              "    .dataframe thead th {\n",
              "        text-align: right;\n",
              "    }\n",
              "</style>\n",
              "<table border=\"1\" class=\"dataframe\">\n",
              "  <thead>\n",
              "    <tr style=\"text-align: right;\">\n",
              "      <th></th>\n",
              "      <th>Date</th>\n",
              "      <th>Open</th>\n",
              "      <th>High</th>\n",
              "      <th>Low</th>\n",
              "      <th>Close</th>\n",
              "      <th>Adj Close</th>\n",
              "      <th>Volume</th>\n",
              "    </tr>\n",
              "  </thead>\n",
              "  <tbody>\n",
              "    <tr>\n",
              "      <th>0</th>\n",
              "      <td>2020-09-29</td>\n",
              "      <td>10712.463</td>\n",
              "      <td>10858.939</td>\n",
              "      <td>10665.345</td>\n",
              "      <td>10848.830</td>\n",
              "      <td>10848.830</td>\n",
              "      <td>20459870042.000</td>\n",
              "    </tr>\n",
              "    <tr>\n",
              "      <th>1</th>\n",
              "      <td>2020-09-30</td>\n",
              "      <td>10845.411</td>\n",
              "      <td>10856.528</td>\n",
              "      <td>10689.671</td>\n",
              "      <td>10787.618</td>\n",
              "      <td>10787.618</td>\n",
              "      <td>20759622010.000</td>\n",
              "    </tr>\n",
              "    <tr>\n",
              "      <th>2</th>\n",
              "      <td>2020-10-01</td>\n",
              "      <td>10785.011</td>\n",
              "      <td>10915.844</td>\n",
              "      <td>10493.553</td>\n",
              "      <td>10623.330</td>\n",
              "      <td>10623.330</td>\n",
              "      <td>27178227816.000</td>\n",
              "    </tr>\n",
              "    <tr>\n",
              "      <th>3</th>\n",
              "      <td>2020-10-02</td>\n",
              "      <td>10624.391</td>\n",
              "      <td>10662.813</td>\n",
              "      <td>10440.312</td>\n",
              "      <td>10585.164</td>\n",
              "      <td>10585.164</td>\n",
              "      <td>23127839259.000</td>\n",
              "    </tr>\n",
              "    <tr>\n",
              "      <th>4</th>\n",
              "      <td>2020-10-03</td>\n",
              "      <td>10583.807</td>\n",
              "      <td>10614.092</td>\n",
              "      <td>10527.979</td>\n",
              "      <td>10565.493</td>\n",
              "      <td>10565.493</td>\n",
              "      <td>17094010304.000</td>\n",
              "    </tr>\n",
              "    <tr>\n",
              "      <th>...</th>\n",
              "      <td>...</td>\n",
              "      <td>...</td>\n",
              "      <td>...</td>\n",
              "      <td>...</td>\n",
              "      <td>...</td>\n",
              "      <td>...</td>\n",
              "      <td>...</td>\n",
              "    </tr>\n",
              "    <tr>\n",
              "      <th>361</th>\n",
              "      <td>2021-09-25</td>\n",
              "      <td>42840.891</td>\n",
              "      <td>42996.258</td>\n",
              "      <td>41759.922</td>\n",
              "      <td>42716.594</td>\n",
              "      <td>42716.594</td>\n",
              "      <td>31604717236.000</td>\n",
              "    </tr>\n",
              "    <tr>\n",
              "      <th>362</th>\n",
              "      <td>2021-09-26</td>\n",
              "      <td>42721.629</td>\n",
              "      <td>43919.301</td>\n",
              "      <td>40848.461</td>\n",
              "      <td>43208.539</td>\n",
              "      <td>43208.539</td>\n",
              "      <td>30661222077.000</td>\n",
              "    </tr>\n",
              "    <tr>\n",
              "      <th>363</th>\n",
              "      <td>2021-09-27</td>\n",
              "      <td>43234.184</td>\n",
              "      <td>44313.246</td>\n",
              "      <td>42190.633</td>\n",
              "      <td>42235.730</td>\n",
              "      <td>42235.730</td>\n",
              "      <td>30980029059.000</td>\n",
              "    </tr>\n",
              "    <tr>\n",
              "      <th>364</th>\n",
              "      <td>2021-09-28</td>\n",
              "      <td>42200.898</td>\n",
              "      <td>42775.145</td>\n",
              "      <td>40931.664</td>\n",
              "      <td>41034.543</td>\n",
              "      <td>41034.543</td>\n",
              "      <td>30214940550.000</td>\n",
              "    </tr>\n",
              "    <tr>\n",
              "      <th>365</th>\n",
              "      <td>2021-09-29</td>\n",
              "      <td>41084.562</td>\n",
              "      <td>42488.766</td>\n",
              "      <td>40890.543</td>\n",
              "      <td>41260.656</td>\n",
              "      <td>41260.656</td>\n",
              "      <td>30176733184.000</td>\n",
              "    </tr>\n",
              "  </tbody>\n",
              "</table>\n",
              "<p>366 rows × 7 columns</p>\n",
              "</div>"
            ],
            "text/plain": [
              "           Date      Open      High  ...     Close  Adj Close          Volume\n",
              "0    2020-09-29 10712.463 10858.939  ... 10848.830  10848.830 20459870042.000\n",
              "1    2020-09-30 10845.411 10856.528  ... 10787.618  10787.618 20759622010.000\n",
              "2    2020-10-01 10785.011 10915.844  ... 10623.330  10623.330 27178227816.000\n",
              "3    2020-10-02 10624.391 10662.813  ... 10585.164  10585.164 23127839259.000\n",
              "4    2020-10-03 10583.807 10614.092  ... 10565.493  10565.493 17094010304.000\n",
              "..          ...       ...       ...  ...       ...        ...             ...\n",
              "361  2021-09-25 42840.891 42996.258  ... 42716.594  42716.594 31604717236.000\n",
              "362  2021-09-26 42721.629 43919.301  ... 43208.539  43208.539 30661222077.000\n",
              "363  2021-09-27 43234.184 44313.246  ... 42235.730  42235.730 30980029059.000\n",
              "364  2021-09-28 42200.898 42775.145  ... 41034.543  41034.543 30214940550.000\n",
              "365  2021-09-29 41084.562 42488.766  ... 41260.656  41260.656 30176733184.000\n",
              "\n",
              "[366 rows x 7 columns]"
            ]
          },
          "metadata": {},
          "execution_count": 3
        }
      ]
    },
    {
      "cell_type": "markdown",
      "metadata": {
        "id": "3bMf5SL7JRZd"
      },
      "source": [
        "# EDA (brief)"
      ]
    },
    {
      "cell_type": "code",
      "metadata": {
        "colab": {
          "base_uri": "https://localhost:8080/"
        },
        "id": "p3lvMY6sJRZd",
        "outputId": "7cc29d84-1f0b-4c49-9e65-a7b06b407300"
      },
      "source": [
        "# checking for nulls\n",
        "dataset.info()"
      ],
      "execution_count": 4,
      "outputs": [
        {
          "output_type": "stream",
          "name": "stdout",
          "text": [
            "<class 'pandas.core.frame.DataFrame'>\n",
            "RangeIndex: 366 entries, 0 to 365\n",
            "Data columns (total 7 columns):\n",
            " #   Column     Non-Null Count  Dtype  \n",
            "---  ------     --------------  -----  \n",
            " 0   Date       366 non-null    object \n",
            " 1   Open       363 non-null    float64\n",
            " 2   High       363 non-null    float64\n",
            " 3   Low        363 non-null    float64\n",
            " 4   Close      363 non-null    float64\n",
            " 5   Adj Close  363 non-null    float64\n",
            " 6   Volume     363 non-null    float64\n",
            "dtypes: float64(6), object(1)\n",
            "memory usage: 20.1+ KB\n"
          ]
        }
      ]
    },
    {
      "cell_type": "code",
      "metadata": {
        "colab": {
          "base_uri": "https://localhost:8080/",
          "height": 143
        },
        "id": "7FJOM7TsJRZe",
        "outputId": "39a9850d-8403-4cb3-abd6-970b6f445b29"
      },
      "source": [
        "# checking if close is not equal to adj close\n",
        "dataset[dataset['Close']!=dataset['Adj Close']]"
      ],
      "execution_count": 5,
      "outputs": [
        {
          "output_type": "execute_result",
          "data": {
            "text/html": [
              "<div>\n",
              "<style scoped>\n",
              "    .dataframe tbody tr th:only-of-type {\n",
              "        vertical-align: middle;\n",
              "    }\n",
              "\n",
              "    .dataframe tbody tr th {\n",
              "        vertical-align: top;\n",
              "    }\n",
              "\n",
              "    .dataframe thead th {\n",
              "        text-align: right;\n",
              "    }\n",
              "</style>\n",
              "<table border=\"1\" class=\"dataframe\">\n",
              "  <thead>\n",
              "    <tr style=\"text-align: right;\">\n",
              "      <th></th>\n",
              "      <th>Date</th>\n",
              "      <th>Open</th>\n",
              "      <th>High</th>\n",
              "      <th>Low</th>\n",
              "      <th>Close</th>\n",
              "      <th>Adj Close</th>\n",
              "      <th>Volume</th>\n",
              "    </tr>\n",
              "  </thead>\n",
              "  <tbody>\n",
              "    <tr>\n",
              "      <th>10</th>\n",
              "      <td>2020-10-09</td>\n",
              "      <td>nan</td>\n",
              "      <td>nan</td>\n",
              "      <td>nan</td>\n",
              "      <td>nan</td>\n",
              "      <td>nan</td>\n",
              "      <td>nan</td>\n",
              "    </tr>\n",
              "    <tr>\n",
              "      <th>13</th>\n",
              "      <td>2020-10-12</td>\n",
              "      <td>nan</td>\n",
              "      <td>nan</td>\n",
              "      <td>nan</td>\n",
              "      <td>nan</td>\n",
              "      <td>nan</td>\n",
              "      <td>nan</td>\n",
              "    </tr>\n",
              "    <tr>\n",
              "      <th>14</th>\n",
              "      <td>2020-10-13</td>\n",
              "      <td>nan</td>\n",
              "      <td>nan</td>\n",
              "      <td>nan</td>\n",
              "      <td>nan</td>\n",
              "      <td>nan</td>\n",
              "      <td>nan</td>\n",
              "    </tr>\n",
              "  </tbody>\n",
              "</table>\n",
              "</div>"
            ],
            "text/plain": [
              "          Date  Open  High  Low  Close  Adj Close  Volume\n",
              "10  2020-10-09   nan   nan  nan    nan        nan     nan\n",
              "13  2020-10-12   nan   nan  nan    nan        nan     nan\n",
              "14  2020-10-13   nan   nan  nan    nan        nan     nan"
            ]
          },
          "metadata": {},
          "execution_count": 5
        }
      ]
    },
    {
      "cell_type": "code",
      "metadata": {
        "colab": {
          "base_uri": "https://localhost:8080/",
          "height": 300
        },
        "id": "n7Fdn9exJRZe",
        "outputId": "b5a1fd20-64ab-4426-9e62-4c545fdac6f8"
      },
      "source": [
        "# checking the main parameters\n",
        "dataset.describe()"
      ],
      "execution_count": 6,
      "outputs": [
        {
          "output_type": "execute_result",
          "data": {
            "text/html": [
              "<div>\n",
              "<style scoped>\n",
              "    .dataframe tbody tr th:only-of-type {\n",
              "        vertical-align: middle;\n",
              "    }\n",
              "\n",
              "    .dataframe tbody tr th {\n",
              "        vertical-align: top;\n",
              "    }\n",
              "\n",
              "    .dataframe thead th {\n",
              "        text-align: right;\n",
              "    }\n",
              "</style>\n",
              "<table border=\"1\" class=\"dataframe\">\n",
              "  <thead>\n",
              "    <tr style=\"text-align: right;\">\n",
              "      <th></th>\n",
              "      <th>Open</th>\n",
              "      <th>High</th>\n",
              "      <th>Low</th>\n",
              "      <th>Close</th>\n",
              "      <th>Adj Close</th>\n",
              "      <th>Volume</th>\n",
              "    </tr>\n",
              "  </thead>\n",
              "  <tbody>\n",
              "    <tr>\n",
              "      <th>count</th>\n",
              "      <td>363.000</td>\n",
              "      <td>363.000</td>\n",
              "      <td>363.000</td>\n",
              "      <td>363.000</td>\n",
              "      <td>363.000</td>\n",
              "      <td>363.000</td>\n",
              "    </tr>\n",
              "    <tr>\n",
              "      <th>mean</th>\n",
              "      <td>37564.531</td>\n",
              "      <td>38705.696</td>\n",
              "      <td>36286.624</td>\n",
              "      <td>37643.309</td>\n",
              "      <td>37643.309</td>\n",
              "      <td>47145811995.410</td>\n",
              "    </tr>\n",
              "    <tr>\n",
              "      <th>std</th>\n",
              "      <td>14641.535</td>\n",
              "      <td>15005.155</td>\n",
              "      <td>14144.548</td>\n",
              "      <td>14578.100</td>\n",
              "      <td>14578.100</td>\n",
              "      <td>25208309072.532</td>\n",
              "    </tr>\n",
              "    <tr>\n",
              "      <th>min</th>\n",
              "      <td>10567.920</td>\n",
              "      <td>10614.092</td>\n",
              "      <td>10440.312</td>\n",
              "      <td>10565.493</td>\n",
              "      <td>10565.493</td>\n",
              "      <td>17094010304.000</td>\n",
              "    </tr>\n",
              "    <tr>\n",
              "      <th>25%</th>\n",
              "      <td>28917.792</td>\n",
              "      <td>29422.752</td>\n",
              "      <td>28462.374</td>\n",
              "      <td>29187.937</td>\n",
              "      <td>29187.937</td>\n",
              "      <td>31602104704.000</td>\n",
              "    </tr>\n",
              "    <tr>\n",
              "      <th>50%</th>\n",
              "      <td>38138.387</td>\n",
              "      <td>39621.836</td>\n",
              "      <td>36069.805</td>\n",
              "      <td>38152.980</td>\n",
              "      <td>38152.980</td>\n",
              "      <td>42068395846.000</td>\n",
              "    </tr>\n",
              "    <tr>\n",
              "      <th>75%</th>\n",
              "      <td>48905.240</td>\n",
              "      <td>49831.393</td>\n",
              "      <td>47161.549</td>\n",
              "      <td>48908.938</td>\n",
              "      <td>48908.938</td>\n",
              "      <td>58662963511.000</td>\n",
              "    </tr>\n",
              "    <tr>\n",
              "      <th>max</th>\n",
              "      <td>63523.754</td>\n",
              "      <td>64863.098</td>\n",
              "      <td>62208.965</td>\n",
              "      <td>63503.457</td>\n",
              "      <td>63503.457</td>\n",
              "      <td>350967941479.000</td>\n",
              "    </tr>\n",
              "  </tbody>\n",
              "</table>\n",
              "</div>"
            ],
            "text/plain": [
              "           Open      High       Low     Close  Adj Close           Volume\n",
              "count   363.000   363.000   363.000   363.000    363.000          363.000\n",
              "mean  37564.531 38705.696 36286.624 37643.309  37643.309  47145811995.410\n",
              "std   14641.535 15005.155 14144.548 14578.100  14578.100  25208309072.532\n",
              "min   10567.920 10614.092 10440.312 10565.493  10565.493  17094010304.000\n",
              "25%   28917.792 29422.752 28462.374 29187.937  29187.937  31602104704.000\n",
              "50%   38138.387 39621.836 36069.805 38152.980  38152.980  42068395846.000\n",
              "75%   48905.240 49831.393 47161.549 48908.938  48908.938  58662963511.000\n",
              "max   63523.754 64863.098 62208.965 63503.457  63503.457 350967941479.000"
            ]
          },
          "metadata": {},
          "execution_count": 6
        }
      ]
    },
    {
      "cell_type": "code",
      "metadata": {
        "id": "OghmE_M-JRZf"
      },
      "source": [
        "# use close only and fill NaN with ffil\n",
        "df = dataset.set_index('Date')[features]#.tail(n_past_total)\n",
        "df = df.set_index(pd.to_datetime(df.index))\n",
        "df.fillna(method='ffill',inplace=True)"
      ],
      "execution_count": 7,
      "outputs": []
    },
    {
      "cell_type": "code",
      "metadata": {
        "colab": {
          "base_uri": "https://localhost:8080/",
          "height": 112
        },
        "id": "lV3C3UMdJRZf",
        "outputId": "71e639b4-2eff-4fbe-d434-aa3ea0c70b46"
      },
      "source": [
        "# looking at the correlation of the main possible variables\n",
        "dataset[['Close','Volume']].corr()"
      ],
      "execution_count": 8,
      "outputs": [
        {
          "output_type": "execute_result",
          "data": {
            "text/html": [
              "<div>\n",
              "<style scoped>\n",
              "    .dataframe tbody tr th:only-of-type {\n",
              "        vertical-align: middle;\n",
              "    }\n",
              "\n",
              "    .dataframe tbody tr th {\n",
              "        vertical-align: top;\n",
              "    }\n",
              "\n",
              "    .dataframe thead th {\n",
              "        text-align: right;\n",
              "    }\n",
              "</style>\n",
              "<table border=\"1\" class=\"dataframe\">\n",
              "  <thead>\n",
              "    <tr style=\"text-align: right;\">\n",
              "      <th></th>\n",
              "      <th>Close</th>\n",
              "      <th>Volume</th>\n",
              "    </tr>\n",
              "  </thead>\n",
              "  <tbody>\n",
              "    <tr>\n",
              "      <th>Close</th>\n",
              "      <td>1.000</td>\n",
              "      <td>0.367</td>\n",
              "    </tr>\n",
              "    <tr>\n",
              "      <th>Volume</th>\n",
              "      <td>0.367</td>\n",
              "      <td>1.000</td>\n",
              "    </tr>\n",
              "  </tbody>\n",
              "</table>\n",
              "</div>"
            ],
            "text/plain": [
              "        Close  Volume\n",
              "Close   1.000   0.367\n",
              "Volume  0.367   1.000"
            ]
          },
          "metadata": {},
          "execution_count": 8
        }
      ]
    },
    {
      "cell_type": "code",
      "metadata": {
        "colab": {
          "base_uri": "https://localhost:8080/",
          "height": 542
        },
        "id": "Hh9zMoGtJRZg",
        "outputId": "9782efce-a711-46c0-9325-83e69c87ebb7"
      },
      "source": [
        "# plotting Closing Price and Volume\n",
        "fig = make_subplots(specs=[[{\"secondary_y\": True}]])\n",
        "\n",
        "# Add traces\n",
        "fig.add_trace(go.Scatter(x=dataset['Close'].index, y=dataset['Close'].values, name='Close'), secondary_y=False)\n",
        "\n",
        "fig.add_trace(go.Scatter(x=dataset['Volume'].index, y=dataset['Volume'].values, name='Volume'), secondary_y=True)\n",
        "\n",
        "# Add figure title\n",
        "fig.update_layout(title_text=\"BTC: {}, {}\".format('Close', 'Volume'))\n",
        "\n",
        "# Set x-axis title\n",
        "fig.update_xaxes(title_text='<b>Date</b>')\n",
        "\n",
        "# Set y-axes titles\n",
        "fig.update_yaxes(title_text='<b>Close</b>', secondary_y=False)\n",
        "fig.update_yaxes(title_text='<b>Volume</b>', secondary_y=True)\n",
        "\n",
        "# Adding slider\n",
        "fig.update_xaxes(\n",
        "    rangeslider_visible=True,\n",
        "    rangeselector=dict(\n",
        "        buttons=list([\n",
        "            dict(count=1, label=\"1m\", step=\"month\", stepmode=\"backward\"),\n",
        "            dict(count=6, label=\"6m\", step=\"month\", stepmode=\"backward\"),\n",
        "            dict(count=1, label=\"YTD\", step=\"year\", stepmode=\"todate\"),\n",
        "            dict(count=1, label=\"1y\", step=\"year\", stepmode=\"backward\"),\n",
        "            dict(step=\"all\")\n",
        "        ])\n",
        "    )\n",
        ")\n",
        "\n",
        "fig.show()"
      ],
      "execution_count": 9,
      "outputs": [
        {
          "output_type": "display_data",
          "data": {
            "text/html": [
              "<html>\n",
              "<head><meta charset=\"utf-8\" /></head>\n",
              "<body>\n",
              "    <div>\n",
              "            <script src=\"https://cdnjs.cloudflare.com/ajax/libs/mathjax/2.7.5/MathJax.js?config=TeX-AMS-MML_SVG\"></script><script type=\"text/javascript\">if (window.MathJax) {MathJax.Hub.Config({SVG: {font: \"STIX-Web\"}});}</script>\n",
              "                <script type=\"text/javascript\">window.PlotlyConfig = {MathJaxConfig: 'local'};</script>\n",
              "        <script src=\"https://cdn.plot.ly/plotly-latest.min.js\"></script>    \n",
              "            <div id=\"ad963563-610e-419e-a6a0-e237c3b1b44f\" class=\"plotly-graph-div\" style=\"height:525px; width:100%;\"></div>\n",
              "            <script type=\"text/javascript\">\n",
              "                \n",
              "                    window.PLOTLYENV=window.PLOTLYENV || {};\n",
              "                    \n",
              "                if (document.getElementById(\"ad963563-610e-419e-a6a0-e237c3b1b44f\")) {\n",
              "                    Plotly.newPlot(\n",
              "                        'ad963563-610e-419e-a6a0-e237c3b1b44f',\n",
              "                        [{\"name\": \"Close\", \"type\": \"scatter\", \"x\": [0, 1, 2, 3, 4, 5, 6, 7, 8, 9, 10, 11, 12, 13, 14, 15, 16, 17, 18, 19, 20, 21, 22, 23, 24, 25, 26, 27, 28, 29, 30, 31, 32, 33, 34, 35, 36, 37, 38, 39, 40, 41, 42, 43, 44, 45, 46, 47, 48, 49, 50, 51, 52, 53, 54, 55, 56, 57, 58, 59, 60, 61, 62, 63, 64, 65, 66, 67, 68, 69, 70, 71, 72, 73, 74, 75, 76, 77, 78, 79, 80, 81, 82, 83, 84, 85, 86, 87, 88, 89, 90, 91, 92, 93, 94, 95, 96, 97, 98, 99, 100, 101, 102, 103, 104, 105, 106, 107, 108, 109, 110, 111, 112, 113, 114, 115, 116, 117, 118, 119, 120, 121, 122, 123, 124, 125, 126, 127, 128, 129, 130, 131, 132, 133, 134, 135, 136, 137, 138, 139, 140, 141, 142, 143, 144, 145, 146, 147, 148, 149, 150, 151, 152, 153, 154, 155, 156, 157, 158, 159, 160, 161, 162, 163, 164, 165, 166, 167, 168, 169, 170, 171, 172, 173, 174, 175, 176, 177, 178, 179, 180, 181, 182, 183, 184, 185, 186, 187, 188, 189, 190, 191, 192, 193, 194, 195, 196, 197, 198, 199, 200, 201, 202, 203, 204, 205, 206, 207, 208, 209, 210, 211, 212, 213, 214, 215, 216, 217, 218, 219, 220, 221, 222, 223, 224, 225, 226, 227, 228, 229, 230, 231, 232, 233, 234, 235, 236, 237, 238, 239, 240, 241, 242, 243, 244, 245, 246, 247, 248, 249, 250, 251, 252, 253, 254, 255, 256, 257, 258, 259, 260, 261, 262, 263, 264, 265, 266, 267, 268, 269, 270, 271, 272, 273, 274, 275, 276, 277, 278, 279, 280, 281, 282, 283, 284, 285, 286, 287, 288, 289, 290, 291, 292, 293, 294, 295, 296, 297, 298, 299, 300, 301, 302, 303, 304, 305, 306, 307, 308, 309, 310, 311, 312, 313, 314, 315, 316, 317, 318, 319, 320, 321, 322, 323, 324, 325, 326, 327, 328, 329, 330, 331, 332, 333, 334, 335, 336, 337, 338, 339, 340, 341, 342, 343, 344, 345, 346, 347, 348, 349, 350, 351, 352, 353, 354, 355, 356, 357, 358, 359, 360, 361, 362, 363, 364, 365], \"xaxis\": \"x\", \"y\": [10848.830078, 10787.618164, 10623.330078, 10585.164063, 10565.493164, 10684.428711, 10804.000977, 10621.664063, 10679.136719, 10923.62793, null, 11296.361328, 11384.181641, null, null, 11429.506836, 11495.349609, 11322.123047, 11358.101563, 11483.359375, 11742.037109, 11916.334961, 12823.689453, 12965.891602, 12931.539063, 13108.0625, 13031.173828, 13075.248047, 13654.21875, 13271.285156, 13437.882813, 13546.522461000002, 13780.995116999999, 13737.109375, 13550.489258000001, 13950.300781, 14133.707031, 15579.848633000001, 15565.880859, 14833.753906, 15479.567383000001, 15332.31543, 15290.902344, 15701.339844, 16276.34375, 16317.808594, 16068.138672, 15955.587891, 16716.111328, 17645.40625, 17804.005859, 17817.089844, 18621.314453, 18642.232422, 18370.001953, 18364.121094, 19107.464844, 18732.121094, 17150.623047, 17108.402344, 17717.414063, 18177.484375, 19625.835938, 18802.998047, 19201.091797, 19445.398438, 18699.765625, 19154.230469, 19345.121094, 19191.630859, 18321.144531, 18553.916016, 18264.992188, 18058.904297, 18803.65625, 19142.382813, 19246.644531, 19417.076172, 21310.597656, 22805.162109, 23137.960938, 23869.832031, 23477.294922, 22803.082031, 23783.029297, 23241.345703, 23735.949219, 24664.791016, 26437.037109, 26272.294922, 27084.808594, 27362.4375, 28840.953125, 29001.720702999995, 29374.152344, 32127.267577999995, 32782.023438, 31971.914063, 33992.429688, 36824.363281, 39371.042969, 40797.609375, 40254.546875, 38356.441406, 35566.65625, 33922.960938, 37316.359375, 39187.328125, 36825.367188, 36178.140625, 35791.277344, 36630.074219, 36069.804688, 35547.75, 30825.699219, 33005.761719, 32067.642577999995, 32289.378906, 32366.392577999995, 32569.849608999997, 30432.546875, 31649.605469, 34316.386719, 34269.523438, 33114.359375, 33537.175781, 35510.289063, 37472.089844, 36926.066406, 38144.308594, 39266.011719, 38903.441406, 46196.464844, 46481.105469, 44918.183594, 47909.332031, 47504.851563, 47105.515625, 48717.289063, 47945.058594, 49199.871094, 52149.007813, 51679.796875, 55888.132813, 56099.51953099999, 57539.945313, 54207.320313, 48824.425781, 49705.332031, 47093.851563, 46339.761719, 46188.453125, 45137.769531, 49631.242188, 48378.988281, 50538.242188, 48561.167969, 48927.304688, 48912.382813, 51206.691406, 52246.523438, 54824.117188, 56008.55078099999, 57805.12109400001, 57332.08984400001, 61243.085938, 59302.31640599999, 55907.19921900001, 56804.90234400001, 58870.89453099999, 57858.921875, 58346.65234400001, 58313.64453099999, 57523.421875, 54529.14453099999, 54738.945313, 52774.265625, 51704.160156, 55137.3125, 55973.51171900001, 55950.74609400001, 57750.19921900001, 58917.69140599999, 58918.83203099999, 59095.80859400001, 59384.3125, 57603.890625, 58758.554688, 59057.87890599999, 58192.359375, 56048.9375, 58323.953125, 58245.00390599999, 59793.234375, 60204.96484400001, 59893.453125, 63503.45703099999, 63109.695313, 63314.01171900001, 61572.789063, 60683.820313, 56216.18359400001, 55724.265625, 56473.03125, 53906.08984400001, 51762.273438, 51093.652344, 50050.867188, 49004.253906, 54021.75390599999, 55033.117188, 54824.703125, 53555.109375, 57750.17578099999, 57828.05078099999, 56631.078125, 57200.29296900001, 53333.539063, 57424.007813, 56396.515625, 57356.40234400001, 58803.77734400001, 58232.31640599999, 55859.796875, 56704.57421900001, 49150.535156, 49716.191406, 49880.535156, 46760.1875, 46456.058594, 43537.511719, 42909.402344, 37002.441406, 40782.738281, 37304.691406, 37536.632813, 34770.582031, 38705.980469, 38402.222656, 39294.199219, 38436.96875, 35697.605469, 34616.066406, 35678.128906, 37332.855469, 36684.925781, 37575.179688, 39208.765625, 36894.40625, 35551.957031, 35862.378906, 33560.707031, 33472.632813, 37345.121094, 36702.597656, 37334.398438, 35552.515625, 39097.859375, 40218.476563, 40406.269531, 38347.0625, 38053.503906, 35787.246094, 35615.871094, 35698.296875, 31676.693358999997, 32505.660156, 33723.027344, 34662.4375, 31637.779297000005, 32186.277344, 34649.644531, 34434.335938, 35867.777344, 35040.835938, 33572.117188, 33897.046875, 34668.546875, 35287.78125, 33746.003906, 34235.195313, 33855.328125, 32877.371094, 33798.011719, 33520.519531, 34240.1875, 33155.847656, 32702.025391000003, 32822.347656, 31780.730469, 31421.539063, 31533.068358999997, 31796.810547000005, 30817.832031, 29807.347656, 32110.693358999997, 32313.105469, 33581.550781, 34292.445313, 35350.1875, 37337.535156, 39406.941406, 39995.90625, 40008.421875, 42235.546875, 41626.195313, 39974.894531, 39201.945313, 38152.980469, 39747.503906, 40869.554688, 42816.5, 44555.800781, 43798.117188, 46365.402344, 45585.03125, 45593.636719, 44428.289063, 47793.320313, 47096.945313, 47047.003906, 46004.484375, 44695.359375, 44801.1875, 46717.578125, 49339.175781, 48905.492188, 49321.652344, 49546.148438, 47706.117188, 48960.789063, 46942.21875, 49058.667969, 48902.402344, 48829.832031, 47054.984375, 47166.6875, 48847.027344, 49327.722656, 50025.375, 49944.625, 51753.410156, 52633.535156, 46811.128906, 46091.390625, 46391.421875, 44883.910156, 45201.457031, 46063.269531, 44963.074219, 47092.492188, 48176.347656, 47783.359375, 47267.519531, 48278.363281, 47260.21875, 42843.800781, 40693.675781, 43574.507813, 44895.097656, 42839.75, 42716.59375, 43208.539063, 42235.730469, 41034.542969, 41260.65625], \"yaxis\": \"y\"}, {\"name\": \"Volume\", \"type\": \"scatter\", \"x\": [0, 1, 2, 3, 4, 5, 6, 7, 8, 9, 10, 11, 12, 13, 14, 15, 16, 17, 18, 19, 20, 21, 22, 23, 24, 25, 26, 27, 28, 29, 30, 31, 32, 33, 34, 35, 36, 37, 38, 39, 40, 41, 42, 43, 44, 45, 46, 47, 48, 49, 50, 51, 52, 53, 54, 55, 56, 57, 58, 59, 60, 61, 62, 63, 64, 65, 66, 67, 68, 69, 70, 71, 72, 73, 74, 75, 76, 77, 78, 79, 80, 81, 82, 83, 84, 85, 86, 87, 88, 89, 90, 91, 92, 93, 94, 95, 96, 97, 98, 99, 100, 101, 102, 103, 104, 105, 106, 107, 108, 109, 110, 111, 112, 113, 114, 115, 116, 117, 118, 119, 120, 121, 122, 123, 124, 125, 126, 127, 128, 129, 130, 131, 132, 133, 134, 135, 136, 137, 138, 139, 140, 141, 142, 143, 144, 145, 146, 147, 148, 149, 150, 151, 152, 153, 154, 155, 156, 157, 158, 159, 160, 161, 162, 163, 164, 165, 166, 167, 168, 169, 170, 171, 172, 173, 174, 175, 176, 177, 178, 179, 180, 181, 182, 183, 184, 185, 186, 187, 188, 189, 190, 191, 192, 193, 194, 195, 196, 197, 198, 199, 200, 201, 202, 203, 204, 205, 206, 207, 208, 209, 210, 211, 212, 213, 214, 215, 216, 217, 218, 219, 220, 221, 222, 223, 224, 225, 226, 227, 228, 229, 230, 231, 232, 233, 234, 235, 236, 237, 238, 239, 240, 241, 242, 243, 244, 245, 246, 247, 248, 249, 250, 251, 252, 253, 254, 255, 256, 257, 258, 259, 260, 261, 262, 263, 264, 265, 266, 267, 268, 269, 270, 271, 272, 273, 274, 275, 276, 277, 278, 279, 280, 281, 282, 283, 284, 285, 286, 287, 288, 289, 290, 291, 292, 293, 294, 295, 296, 297, 298, 299, 300, 301, 302, 303, 304, 305, 306, 307, 308, 309, 310, 311, 312, 313, 314, 315, 316, 317, 318, 319, 320, 321, 322, 323, 324, 325, 326, 327, 328, 329, 330, 331, 332, 333, 334, 335, 336, 337, 338, 339, 340, 341, 342, 343, 344, 345, 346, 347, 348, 349, 350, 351, 352, 353, 354, 355, 356, 357, 358, 359, 360, 361, 362, 363, 364, 365], \"xaxis\": \"x\", \"y\": [20459870042.0, 20759622010.0, 27178227816.0, 23127839259.0, 17094010304.0, 17546792792.0, 19385191766.0, 22264958686.0, 17634388529.0, 21962121001.0, null, 22877978588.0, 19968627060.0, null, null, 24103426719.0, 24487233058.0, 25635480772.0, 19130430174.0, 18283314340.0, 23860769928.0, 30915821592.0, 43414712626.0, 34729759598.0, 28974975003.0, 24542317940.0, 24406920575.0, 29461458313.0, 33749878156.0, 35867318895.0, 56499499598.0, 30581485201.0, 30306464719.0, 24453857900.0, 30771455468.0, 29869951617.0, 35116364962.0, 40856321439.0, 39837841971.0, 35024953706.0, 26632075029.0, 34149115566.0, 25574938143.0, 29772374934.0, 34175758344.0, 31599492172.0, 27481710135.0, 23653867583.0, 31526766675.0, 39006849170.0, 49064800278.0, 36985055355.0, 36992873940.0, 39650210707.0, 41280434226.0, 42741112308.0, 51469565009.0, 43710357371.0, 61396835737.0, 38886494645.0, 32601040734.0, 31133957704.0, 47728480399.0, 49633658712.0, 37387697139.0, 31930317405.0, 33872388058.0, 27242455064.0, 25293775714.0, 26896357742.0, 31692288756.0, 34420373071.0, 25547132265.0, 27919640985.0, 21752580802.0, 25450468637.0, 22473997681.0, 26741982541.0, 44409011479.0, 71378606374.0, 40387896275.0, 38487546580.0, 37844228422.0, 45852713981.0, 44171632681.0, 51146161904.0, 41080759713.0, 42068395846.0, 48332647295.0, 66479895605.0, 49056742893.0, 45265946774.0, 51287442704.0, 46754964848.0, 40730301359.0, 67865420765.0, 78665235202.0, 81163475344.0, 67547324782.0, 75289433811.0, 84762141031.0, 88107519480.0, 61984162837.0, 79980747690.0, 123320567399.0, 74773277909.0, 69364315979.0, 63615990033.0, 67760757881.0, 57706187875.0, 52359854336.0, 49511702429.0, 57244195486.0, 66834573161.0, 75643067688.0, 77207272511.0, 48354737975.0, 48643830599.0, 59897054838.0, 60255421470.0, 62576762015.0, 78948162368.0, 117894572511.0, 65141828798.0, 52754542671.0, 61400400660.0, 63088585433.0, 61166818159.0, 68838074392.0, 58598066402.0, 71326033653.0, 65500641143.0, 101467222687.0, 91809846886.0, 87301089896.0, 81388911810.0, 76555041196.0, 70250456155.0, 71248675228.0, 77069903166.0, 77049582886.0, 80820545404.0, 52054723579.0, 63495496918.0, 68145460026.0, 51897585191.0, 92052420332.0, 106102492824.0, 63695521388.0, 54506565949.0, 350967941479.0, 45910946382.0, 53443887451.0, 53891300112.0, 47530897720.0, 53220811975.0, 52343816680.0, 48625928883.0, 34363564661.0, 43137459378.0, 48597428048.0, 50912227385.0, 57295577614.0, 56772343595.0, 55689944702.0, 60669829814.0, 43901225564.0, 66419369890.0, 59749798599.0, 60258313191.0, 55746041000.0, 49063873786.0, 50361731222.0, 51943414539.0, 56521454974.0, 56435023914.0, 70567223787.0, 67999812841.0, 56652197978.0, 47266542233.0, 47686580918.0, 57625587027.0, 54414116432.0, 65520826225.0, 61669163792.0, 58727860620.0, 59641344484.0, 50749662970.0, 60706272115.0, 66058027988.0, 75645303584.0, 53053855641.0, 46655208546.0, 58238470525.0, 46280252580.0, 51828688519.0, 69983454362.0, 77451779687.0, 60954381579.0, 84293007468.0, 66138759198.0, 97468872758.0, 65344865159.0, 67849323955.0, 54926612466.0, 74798630778.0, 86668667320.0, 49014494781.0, 46117114240.0, 58284039825.0, 49448222757.0, 48000572955.0, 46088929780.0, 52395931985.0, 42836427360.0, 38177405335.0, 51713139031.0, 68564706967.0, 69241316747.0, 69523285106.0, 68434023376.0, 65382980634.0, 65906690347.0, 71776546298.0, 61308396325.0, 75215403907.0, 96721152926.0, 55737497453.0, 59161047474.0, 64047871555.0, 74903638450.0, 56187365084.0, 126358098747.0, 88281943359.0, 82051616861.0, 57377273240.0, 78469274361.0, 67359584098.0, 56211915803.0, 51346735160.0, 43210968721.0, 55200191952.0, 45231013335.0, 31646080921.0, 39009847639.0, 34639423297.0, 33070867190.0, 35460750427.0, 41831090187.0, 35959473399.0, 28913440585.0, 33683936663.0, 49902050442.0, 53972919008.0, 43576032854.0, 38699736985.0, 37924228550.0, 40669112838.0, 43148914673.0, 46420149185.0, 39211635100.0, 37096670047.0, 36200887275.0, 31207279719.0, 36664034054.0, 52809038594.0, 58964353058.0, 46317108925.0, 33123368116.0, 40230904226.0, 38585385521.0, 35511640894.0, 33892523752.0, 37901460044.0, 34059036099.0, 37838957079.0, 38728974942.0, 24383958643.0, 24924307911.0, 26721554282.0, 26501259870.0, 24796027477.0, 29910396946.0, 27436021028.0, 22971873468.0, 20108729370.0, 24321499537.0, 19120856669.0, 21376531210.0, 21300524237.0, 23699476918.0, 18895018942.0, 18787986667.0, 20434789545.0, 23148267245.0, 28203024559.0, 19555230518.0, 22552046192.0, 21664706865.0, 20856685287.0, 51022126212.0, 35097370560.0, 38702404695.0, 27167146027.0, 33072782960.0, 25802845343.0, 26688438115.0, 25595265436.0, 26189830450.0, 25372562724.0, 35185031017.0, 38226483046.0, 40030862141.0, 36302664750.0, 38734079049.0, 33546019517.0, 34319709073.0, 33723620826.0, 31744259539.0, 31211354442.0, 30988958446.0, 32776876610.0, 33451362600.0, 32194123075.0, 37204312299.0, 34706867452.0, 40585205312.0, 25370975378.0, 34305053719.0, 35361168834.0, 32646349931.0, 32666549568.0, 34511076995.0, 28568103401.0, 25889650240.0, 31847007016.0, 34730363427.0, 39139399125.0, 39508070319.0, 43206179619.0, 37471327794.0, 30322676319.0, 38884105426.0, 65210059683.0, 49007762488.0, 38672657013.0, 39154666597.0, 34499835245.0, 27881980161.0, 40969943253.0, 38652152880.0, 30484496466.0, 31764293754.0, 28727713711.0, 28575630451.0, 26967722648.0, 43909845642.0, 48701090088.0, 38139709246.0, 34244064430.0, 42839345714.0, 31604717236.0, 30661222077.0, 30980029059.0, 30214940550.0, 30176733184.0], \"yaxis\": \"y2\"}],\n",
              "                        {\"template\": {\"data\": {\"bar\": [{\"error_x\": {\"color\": \"#2a3f5f\"}, \"error_y\": {\"color\": \"#2a3f5f\"}, \"marker\": {\"line\": {\"color\": \"#E5ECF6\", \"width\": 0.5}}, \"type\": \"bar\"}], \"barpolar\": [{\"marker\": {\"line\": {\"color\": \"#E5ECF6\", \"width\": 0.5}}, \"type\": \"barpolar\"}], \"carpet\": [{\"aaxis\": {\"endlinecolor\": \"#2a3f5f\", \"gridcolor\": \"white\", \"linecolor\": \"white\", \"minorgridcolor\": \"white\", \"startlinecolor\": \"#2a3f5f\"}, \"baxis\": {\"endlinecolor\": \"#2a3f5f\", \"gridcolor\": \"white\", \"linecolor\": \"white\", \"minorgridcolor\": \"white\", \"startlinecolor\": \"#2a3f5f\"}, \"type\": \"carpet\"}], \"choropleth\": [{\"colorbar\": {\"outlinewidth\": 0, \"ticks\": \"\"}, \"type\": \"choropleth\"}], \"contour\": [{\"colorbar\": {\"outlinewidth\": 0, \"ticks\": \"\"}, \"colorscale\": [[0.0, \"#0d0887\"], [0.1111111111111111, \"#46039f\"], [0.2222222222222222, \"#7201a8\"], [0.3333333333333333, \"#9c179e\"], [0.4444444444444444, \"#bd3786\"], [0.5555555555555556, \"#d8576b\"], [0.6666666666666666, \"#ed7953\"], [0.7777777777777778, \"#fb9f3a\"], [0.8888888888888888, \"#fdca26\"], [1.0, \"#f0f921\"]], \"type\": \"contour\"}], \"contourcarpet\": [{\"colorbar\": {\"outlinewidth\": 0, \"ticks\": \"\"}, \"type\": \"contourcarpet\"}], \"heatmap\": [{\"colorbar\": {\"outlinewidth\": 0, \"ticks\": \"\"}, \"colorscale\": [[0.0, \"#0d0887\"], [0.1111111111111111, \"#46039f\"], [0.2222222222222222, \"#7201a8\"], [0.3333333333333333, \"#9c179e\"], [0.4444444444444444, \"#bd3786\"], [0.5555555555555556, \"#d8576b\"], [0.6666666666666666, \"#ed7953\"], [0.7777777777777778, \"#fb9f3a\"], [0.8888888888888888, \"#fdca26\"], [1.0, \"#f0f921\"]], \"type\": \"heatmap\"}], \"heatmapgl\": [{\"colorbar\": {\"outlinewidth\": 0, \"ticks\": \"\"}, \"colorscale\": [[0.0, \"#0d0887\"], [0.1111111111111111, \"#46039f\"], [0.2222222222222222, \"#7201a8\"], [0.3333333333333333, \"#9c179e\"], [0.4444444444444444, \"#bd3786\"], [0.5555555555555556, \"#d8576b\"], [0.6666666666666666, \"#ed7953\"], [0.7777777777777778, \"#fb9f3a\"], [0.8888888888888888, \"#fdca26\"], [1.0, \"#f0f921\"]], \"type\": \"heatmapgl\"}], \"histogram\": [{\"marker\": {\"colorbar\": {\"outlinewidth\": 0, \"ticks\": \"\"}}, \"type\": \"histogram\"}], \"histogram2d\": [{\"colorbar\": {\"outlinewidth\": 0, \"ticks\": \"\"}, \"colorscale\": [[0.0, \"#0d0887\"], [0.1111111111111111, \"#46039f\"], [0.2222222222222222, \"#7201a8\"], [0.3333333333333333, \"#9c179e\"], [0.4444444444444444, \"#bd3786\"], [0.5555555555555556, \"#d8576b\"], [0.6666666666666666, \"#ed7953\"], [0.7777777777777778, \"#fb9f3a\"], [0.8888888888888888, \"#fdca26\"], [1.0, \"#f0f921\"]], \"type\": \"histogram2d\"}], \"histogram2dcontour\": [{\"colorbar\": {\"outlinewidth\": 0, \"ticks\": \"\"}, \"colorscale\": [[0.0, \"#0d0887\"], [0.1111111111111111, \"#46039f\"], [0.2222222222222222, \"#7201a8\"], [0.3333333333333333, \"#9c179e\"], [0.4444444444444444, \"#bd3786\"], [0.5555555555555556, \"#d8576b\"], [0.6666666666666666, \"#ed7953\"], [0.7777777777777778, \"#fb9f3a\"], [0.8888888888888888, \"#fdca26\"], [1.0, \"#f0f921\"]], \"type\": \"histogram2dcontour\"}], \"mesh3d\": [{\"colorbar\": {\"outlinewidth\": 0, \"ticks\": \"\"}, \"type\": \"mesh3d\"}], \"parcoords\": [{\"line\": {\"colorbar\": {\"outlinewidth\": 0, \"ticks\": \"\"}}, \"type\": \"parcoords\"}], \"pie\": [{\"automargin\": true, \"type\": \"pie\"}], \"scatter\": [{\"marker\": {\"colorbar\": {\"outlinewidth\": 0, \"ticks\": \"\"}}, \"type\": \"scatter\"}], \"scatter3d\": [{\"line\": {\"colorbar\": {\"outlinewidth\": 0, \"ticks\": \"\"}}, \"marker\": {\"colorbar\": {\"outlinewidth\": 0, \"ticks\": \"\"}}, \"type\": \"scatter3d\"}], \"scattercarpet\": [{\"marker\": {\"colorbar\": {\"outlinewidth\": 0, \"ticks\": \"\"}}, \"type\": \"scattercarpet\"}], \"scattergeo\": [{\"marker\": {\"colorbar\": {\"outlinewidth\": 0, \"ticks\": \"\"}}, \"type\": \"scattergeo\"}], \"scattergl\": [{\"marker\": {\"colorbar\": {\"outlinewidth\": 0, \"ticks\": \"\"}}, \"type\": \"scattergl\"}], \"scattermapbox\": [{\"marker\": {\"colorbar\": {\"outlinewidth\": 0, \"ticks\": \"\"}}, \"type\": \"scattermapbox\"}], \"scatterpolar\": [{\"marker\": {\"colorbar\": {\"outlinewidth\": 0, \"ticks\": \"\"}}, \"type\": \"scatterpolar\"}], \"scatterpolargl\": [{\"marker\": {\"colorbar\": {\"outlinewidth\": 0, \"ticks\": \"\"}}, \"type\": \"scatterpolargl\"}], \"scatterternary\": [{\"marker\": {\"colorbar\": {\"outlinewidth\": 0, \"ticks\": \"\"}}, \"type\": \"scatterternary\"}], \"surface\": [{\"colorbar\": {\"outlinewidth\": 0, \"ticks\": \"\"}, \"colorscale\": [[0.0, \"#0d0887\"], [0.1111111111111111, \"#46039f\"], [0.2222222222222222, \"#7201a8\"], [0.3333333333333333, \"#9c179e\"], [0.4444444444444444, \"#bd3786\"], [0.5555555555555556, \"#d8576b\"], [0.6666666666666666, \"#ed7953\"], [0.7777777777777778, \"#fb9f3a\"], [0.8888888888888888, \"#fdca26\"], [1.0, \"#f0f921\"]], \"type\": \"surface\"}], \"table\": [{\"cells\": {\"fill\": {\"color\": \"#EBF0F8\"}, \"line\": {\"color\": \"white\"}}, \"header\": {\"fill\": {\"color\": \"#C8D4E3\"}, \"line\": {\"color\": \"white\"}}, \"type\": \"table\"}]}, \"layout\": {\"annotationdefaults\": {\"arrowcolor\": \"#2a3f5f\", \"arrowhead\": 0, \"arrowwidth\": 1}, \"coloraxis\": {\"colorbar\": {\"outlinewidth\": 0, \"ticks\": \"\"}}, \"colorscale\": {\"diverging\": [[0, \"#8e0152\"], [0.1, \"#c51b7d\"], [0.2, \"#de77ae\"], [0.3, \"#f1b6da\"], [0.4, \"#fde0ef\"], [0.5, \"#f7f7f7\"], [0.6, \"#e6f5d0\"], [0.7, \"#b8e186\"], [0.8, \"#7fbc41\"], [0.9, \"#4d9221\"], [1, \"#276419\"]], \"sequential\": [[0.0, \"#0d0887\"], [0.1111111111111111, \"#46039f\"], [0.2222222222222222, \"#7201a8\"], [0.3333333333333333, \"#9c179e\"], [0.4444444444444444, \"#bd3786\"], [0.5555555555555556, \"#d8576b\"], [0.6666666666666666, \"#ed7953\"], [0.7777777777777778, \"#fb9f3a\"], [0.8888888888888888, \"#fdca26\"], [1.0, \"#f0f921\"]], \"sequentialminus\": [[0.0, \"#0d0887\"], [0.1111111111111111, \"#46039f\"], [0.2222222222222222, \"#7201a8\"], [0.3333333333333333, \"#9c179e\"], [0.4444444444444444, \"#bd3786\"], [0.5555555555555556, \"#d8576b\"], [0.6666666666666666, \"#ed7953\"], [0.7777777777777778, \"#fb9f3a\"], [0.8888888888888888, \"#fdca26\"], [1.0, \"#f0f921\"]]}, \"colorway\": [\"#636efa\", \"#EF553B\", \"#00cc96\", \"#ab63fa\", \"#FFA15A\", \"#19d3f3\", \"#FF6692\", \"#B6E880\", \"#FF97FF\", \"#FECB52\"], \"font\": {\"color\": \"#2a3f5f\"}, \"geo\": {\"bgcolor\": \"white\", \"lakecolor\": \"white\", \"landcolor\": \"#E5ECF6\", \"showlakes\": true, \"showland\": true, \"subunitcolor\": \"white\"}, \"hoverlabel\": {\"align\": \"left\"}, \"hovermode\": \"closest\", \"mapbox\": {\"style\": \"light\"}, \"paper_bgcolor\": \"white\", \"plot_bgcolor\": \"#E5ECF6\", \"polar\": {\"angularaxis\": {\"gridcolor\": \"white\", \"linecolor\": \"white\", \"ticks\": \"\"}, \"bgcolor\": \"#E5ECF6\", \"radialaxis\": {\"gridcolor\": \"white\", \"linecolor\": \"white\", \"ticks\": \"\"}}, \"scene\": {\"xaxis\": {\"backgroundcolor\": \"#E5ECF6\", \"gridcolor\": \"white\", \"gridwidth\": 2, \"linecolor\": \"white\", \"showbackground\": true, \"ticks\": \"\", \"zerolinecolor\": \"white\"}, \"yaxis\": {\"backgroundcolor\": \"#E5ECF6\", \"gridcolor\": \"white\", \"gridwidth\": 2, \"linecolor\": \"white\", \"showbackground\": true, \"ticks\": \"\", \"zerolinecolor\": \"white\"}, \"zaxis\": {\"backgroundcolor\": \"#E5ECF6\", \"gridcolor\": \"white\", \"gridwidth\": 2, \"linecolor\": \"white\", \"showbackground\": true, \"ticks\": \"\", \"zerolinecolor\": \"white\"}}, \"shapedefaults\": {\"line\": {\"color\": \"#2a3f5f\"}}, \"ternary\": {\"aaxis\": {\"gridcolor\": \"white\", \"linecolor\": \"white\", \"ticks\": \"\"}, \"baxis\": {\"gridcolor\": \"white\", \"linecolor\": \"white\", \"ticks\": \"\"}, \"bgcolor\": \"#E5ECF6\", \"caxis\": {\"gridcolor\": \"white\", \"linecolor\": \"white\", \"ticks\": \"\"}}, \"title\": {\"x\": 0.05}, \"xaxis\": {\"automargin\": true, \"gridcolor\": \"white\", \"linecolor\": \"white\", \"ticks\": \"\", \"title\": {\"standoff\": 15}, \"zerolinecolor\": \"white\", \"zerolinewidth\": 2}, \"yaxis\": {\"automargin\": true, \"gridcolor\": \"white\", \"linecolor\": \"white\", \"ticks\": \"\", \"title\": {\"standoff\": 15}, \"zerolinecolor\": \"white\", \"zerolinewidth\": 2}}}, \"title\": {\"text\": \"BTC: Close, Volume\"}, \"xaxis\": {\"anchor\": \"y\", \"domain\": [0.0, 0.94], \"rangeselector\": {\"buttons\": [{\"count\": 1, \"label\": \"1m\", \"step\": \"month\", \"stepmode\": \"backward\"}, {\"count\": 6, \"label\": \"6m\", \"step\": \"month\", \"stepmode\": \"backward\"}, {\"count\": 1, \"label\": \"YTD\", \"step\": \"year\", \"stepmode\": \"todate\"}, {\"count\": 1, \"label\": \"1y\", \"step\": \"year\", \"stepmode\": \"backward\"}, {\"step\": \"all\"}]}, \"rangeslider\": {\"visible\": true}, \"title\": {\"text\": \"<b>Date</b>\"}}, \"yaxis\": {\"anchor\": \"x\", \"domain\": [0.0, 1.0], \"title\": {\"text\": \"<b>Close</b>\"}}, \"yaxis2\": {\"anchor\": \"x\", \"overlaying\": \"y\", \"side\": \"right\", \"title\": {\"text\": \"<b>Volume</b>\"}}},\n",
              "                        {\"responsive\": true}\n",
              "                    ).then(function(){\n",
              "                            \n",
              "var gd = document.getElementById('ad963563-610e-419e-a6a0-e237c3b1b44f');\n",
              "var x = new MutationObserver(function (mutations, observer) {{\n",
              "        var display = window.getComputedStyle(gd).display;\n",
              "        if (!display || display === 'none') {{\n",
              "            console.log([gd, 'removed!']);\n",
              "            Plotly.purge(gd);\n",
              "            observer.disconnect();\n",
              "        }}\n",
              "}});\n",
              "\n",
              "// Listen for the removal of the full notebook cells\n",
              "var notebookContainer = gd.closest('#notebook-container');\n",
              "if (notebookContainer) {{\n",
              "    x.observe(notebookContainer, {childList: true});\n",
              "}}\n",
              "\n",
              "// Listen for the clearing of the current output cell\n",
              "var outputEl = gd.closest('.output');\n",
              "if (outputEl) {{\n",
              "    x.observe(outputEl, {childList: true});\n",
              "}}\n",
              "\n",
              "                        })\n",
              "                };\n",
              "                \n",
              "            </script>\n",
              "        </div>\n",
              "</body>\n",
              "</html>"
            ]
          },
          "metadata": {}
        }
      ]
    },
    {
      "cell_type": "markdown",
      "metadata": {
        "id": "POFjg6y9JRZh"
      },
      "source": [
        "We can observe a spike in volume around end of Feb2021. Let's take a look."
      ]
    },
    {
      "cell_type": "code",
      "metadata": {
        "colab": {
          "base_uri": "https://localhost:8080/",
          "height": 617
        },
        "id": "dm7XyLpTJRZh",
        "outputId": "f2dbd3a1-3aa1-4ebf-c894-70e369a5d33c"
      },
      "source": [
        "# looking at Feb21 datapoints\n",
        "dataset[(dataset['Date']>'2021-02-01') & (dataset['Date']<'2021-03-01')].style.bar(subset=['Volume'], color='#d65f5f')"
      ],
      "execution_count": 10,
      "outputs": [
        {
          "output_type": "execute_result",
          "data": {
            "text/html": [
              "<style  type=\"text/css\" >\n",
              "#T_29308d68_2160_11ec_ae6f_0242ac1c0002row0_col6{\n",
              "            width:  10em;\n",
              "             height:  80%;\n",
              "            background:  linear-gradient(90deg,#d65f5f 5.6%, transparent 5.6%);\n",
              "        }#T_29308d68_2160_11ec_ae6f_0242ac1c0002row1_col6{\n",
              "            width:  10em;\n",
              "             height:  80%;\n",
              "            background:  linear-gradient(90deg,#d65f5f 5.0%, transparent 5.0%);\n",
              "        }#T_29308d68_2160_11ec_ae6f_0242ac1c0002row2_col6{\n",
              "            width:  10em;\n",
              "             height:  80%;\n",
              "            background:  linear-gradient(90deg,#d65f5f 7.5%, transparent 7.5%);\n",
              "        }#T_29308d68_2160_11ec_ae6f_0242ac1c0002row3_col6{\n",
              "            width:  10em;\n",
              "             height:  80%;\n",
              "            background:  linear-gradient(90deg,#d65f5f 4.2%, transparent 4.2%);\n",
              "        }#T_29308d68_2160_11ec_ae6f_0242ac1c0002row4_col6,#T_29308d68_2160_11ec_ae6f_0242ac1c0002row12_col6{\n",
              "            width:  10em;\n",
              "             height:  80%;\n",
              "            background:  linear-gradient(90deg,#d65f5f 8.3%, transparent 8.3%);\n",
              "        }#T_29308d68_2160_11ec_ae6f_0242ac1c0002row5_col6{\n",
              "            width:  10em;\n",
              "             height:  80%;\n",
              "            background:  linear-gradient(90deg,#d65f5f 6.4%, transparent 6.4%);\n",
              "        }#T_29308d68_2160_11ec_ae6f_0242ac1c0002row6_col6{\n",
              "            width:  10em;\n",
              "             height:  80%;\n",
              "            background:  linear-gradient(90deg,#d65f5f 18.2%, transparent 18.2%);\n",
              "        }#T_29308d68_2160_11ec_ae6f_0242ac1c0002row7_col6{\n",
              "            width:  10em;\n",
              "             height:  80%;\n",
              "            background:  linear-gradient(90deg,#d65f5f 15.0%, transparent 15.0%);\n",
              "        }#T_29308d68_2160_11ec_ae6f_0242ac1c0002row8_col6{\n",
              "            width:  10em;\n",
              "             height:  80%;\n",
              "            background:  linear-gradient(90deg,#d65f5f 13.6%, transparent 13.6%);\n",
              "        }#T_29308d68_2160_11ec_ae6f_0242ac1c0002row9_col6{\n",
              "            width:  10em;\n",
              "             height:  80%;\n",
              "            background:  linear-gradient(90deg,#d65f5f 11.6%, transparent 11.6%);\n",
              "        }#T_29308d68_2160_11ec_ae6f_0242ac1c0002row10_col6{\n",
              "            width:  10em;\n",
              "             height:  80%;\n",
              "            background:  linear-gradient(90deg,#d65f5f 10.0%, transparent 10.0%);\n",
              "        }#T_29308d68_2160_11ec_ae6f_0242ac1c0002row11_col6{\n",
              "            width:  10em;\n",
              "             height:  80%;\n",
              "            background:  linear-gradient(90deg,#d65f5f 8.0%, transparent 8.0%);\n",
              "        }#T_29308d68_2160_11ec_ae6f_0242ac1c0002row13_col6,#T_29308d68_2160_11ec_ae6f_0242ac1c0002row14_col6{\n",
              "            width:  10em;\n",
              "             height:  80%;\n",
              "            background:  linear-gradient(90deg,#d65f5f 10.2%, transparent 10.2%);\n",
              "        }#T_29308d68_2160_11ec_ae6f_0242ac1c0002row15_col6{\n",
              "            width:  10em;\n",
              "             height:  80%;\n",
              "            background:  linear-gradient(90deg,#d65f5f 11.4%, transparent 11.4%);\n",
              "        }#T_29308d68_2160_11ec_ae6f_0242ac1c0002row16_col6,#T_29308d68_2160_11ec_ae6f_0242ac1c0002row19_col6{\n",
              "            width:  10em;\n",
              "             height:  80%;\n",
              "            background:  linear-gradient(90deg,#d65f5f 2.0%, transparent 2.0%);\n",
              "        }#T_29308d68_2160_11ec_ae6f_0242ac1c0002row17_col6,#T_29308d68_2160_11ec_ae6f_0242ac1c0002row22_col6{\n",
              "            width:  10em;\n",
              "             height:  80%;\n",
              "            background:  linear-gradient(90deg,#d65f5f 5.8%, transparent 5.8%);\n",
              "        }#T_29308d68_2160_11ec_ae6f_0242ac1c0002row18_col6{\n",
              "            width:  10em;\n",
              "             height:  80%;\n",
              "            background:  linear-gradient(90deg,#d65f5f 7.3%, transparent 7.3%);\n",
              "        }#T_29308d68_2160_11ec_ae6f_0242ac1c0002row20_col6{\n",
              "            width:  10em;\n",
              "             height:  80%;\n",
              "            background:  linear-gradient(90deg,#d65f5f 15.1%, transparent 15.1%);\n",
              "        }#T_29308d68_2160_11ec_ae6f_0242ac1c0002row21_col6{\n",
              "            width:  10em;\n",
              "             height:  80%;\n",
              "            background:  linear-gradient(90deg,#d65f5f 19.7%, transparent 19.7%);\n",
              "        }#T_29308d68_2160_11ec_ae6f_0242ac1c0002row23_col6{\n",
              "            width:  10em;\n",
              "             height:  80%;\n",
              "            background:  linear-gradient(90deg,#d65f5f 2.8%, transparent 2.8%);\n",
              "        }#T_29308d68_2160_11ec_ae6f_0242ac1c0002row24_col6{\n",
              "            width:  10em;\n",
              "             height:  80%;\n",
              "            background:  linear-gradient(90deg,#d65f5f 100.0%, transparent 100.0%);\n",
              "        }#T_29308d68_2160_11ec_ae6f_0242ac1c0002row25_col6{\n",
              "            width:  10em;\n",
              "             height:  80%;\n",
              "        }#T_29308d68_2160_11ec_ae6f_0242ac1c0002row26_col6{\n",
              "            width:  10em;\n",
              "             height:  80%;\n",
              "            background:  linear-gradient(90deg,#d65f5f 2.5%, transparent 2.5%);\n",
              "        }</style><table id=\"T_29308d68_2160_11ec_ae6f_0242ac1c0002\" ><thead>    <tr>        <th class=\"blank level0\" ></th>        <th class=\"col_heading level0 col0\" >Date</th>        <th class=\"col_heading level0 col1\" >Open</th>        <th class=\"col_heading level0 col2\" >High</th>        <th class=\"col_heading level0 col3\" >Low</th>        <th class=\"col_heading level0 col4\" >Close</th>        <th class=\"col_heading level0 col5\" >Adj Close</th>        <th class=\"col_heading level0 col6\" >Volume</th>    </tr></thead><tbody>\n",
              "                <tr>\n",
              "                        <th id=\"T_29308d68_2160_11ec_ae6f_0242ac1c0002level0_row0\" class=\"row_heading level0 row0\" >126</th>\n",
              "                        <td id=\"T_29308d68_2160_11ec_ae6f_0242ac1c0002row0_col0\" class=\"data row0 col0\" >2021-02-02</td>\n",
              "                        <td id=\"T_29308d68_2160_11ec_ae6f_0242ac1c0002row0_col1\" class=\"data row0 col1\" >33533.199219</td>\n",
              "                        <td id=\"T_29308d68_2160_11ec_ae6f_0242ac1c0002row0_col2\" class=\"data row0 col2\" >35896.882813</td>\n",
              "                        <td id=\"T_29308d68_2160_11ec_ae6f_0242ac1c0002row0_col3\" class=\"data row0 col3\" >33489.218750</td>\n",
              "                        <td id=\"T_29308d68_2160_11ec_ae6f_0242ac1c0002row0_col4\" class=\"data row0 col4\" >35510.289063</td>\n",
              "                        <td id=\"T_29308d68_2160_11ec_ae6f_0242ac1c0002row0_col5\" class=\"data row0 col5\" >35510.289063</td>\n",
              "                        <td id=\"T_29308d68_2160_11ec_ae6f_0242ac1c0002row0_col6\" class=\"data row0 col6\" >63088585433.000000</td>\n",
              "            </tr>\n",
              "            <tr>\n",
              "                        <th id=\"T_29308d68_2160_11ec_ae6f_0242ac1c0002level0_row1\" class=\"row_heading level0 row1\" >127</th>\n",
              "                        <td id=\"T_29308d68_2160_11ec_ae6f_0242ac1c0002row1_col0\" class=\"data row1 col0\" >2021-02-03</td>\n",
              "                        <td id=\"T_29308d68_2160_11ec_ae6f_0242ac1c0002row1_col1\" class=\"data row1 col1\" >35510.820313</td>\n",
              "                        <td id=\"T_29308d68_2160_11ec_ae6f_0242ac1c0002row1_col2\" class=\"data row1 col2\" >37480.187500</td>\n",
              "                        <td id=\"T_29308d68_2160_11ec_ae6f_0242ac1c0002row1_col3\" class=\"data row1 col3\" >35443.984375</td>\n",
              "                        <td id=\"T_29308d68_2160_11ec_ae6f_0242ac1c0002row1_col4\" class=\"data row1 col4\" >37472.089844</td>\n",
              "                        <td id=\"T_29308d68_2160_11ec_ae6f_0242ac1c0002row1_col5\" class=\"data row1 col5\" >37472.089844</td>\n",
              "                        <td id=\"T_29308d68_2160_11ec_ae6f_0242ac1c0002row1_col6\" class=\"data row1 col6\" >61166818159.000000</td>\n",
              "            </tr>\n",
              "            <tr>\n",
              "                        <th id=\"T_29308d68_2160_11ec_ae6f_0242ac1c0002level0_row2\" class=\"row_heading level0 row2\" >128</th>\n",
              "                        <td id=\"T_29308d68_2160_11ec_ae6f_0242ac1c0002row2_col0\" class=\"data row2 col0\" >2021-02-04</td>\n",
              "                        <td id=\"T_29308d68_2160_11ec_ae6f_0242ac1c0002row2_col1\" class=\"data row2 col1\" >37475.105469</td>\n",
              "                        <td id=\"T_29308d68_2160_11ec_ae6f_0242ac1c0002row2_col2\" class=\"data row2 col2\" >38592.175781</td>\n",
              "                        <td id=\"T_29308d68_2160_11ec_ae6f_0242ac1c0002row2_col3\" class=\"data row2 col3\" >36317.500000</td>\n",
              "                        <td id=\"T_29308d68_2160_11ec_ae6f_0242ac1c0002row2_col4\" class=\"data row2 col4\" >36926.066406</td>\n",
              "                        <td id=\"T_29308d68_2160_11ec_ae6f_0242ac1c0002row2_col5\" class=\"data row2 col5\" >36926.066406</td>\n",
              "                        <td id=\"T_29308d68_2160_11ec_ae6f_0242ac1c0002row2_col6\" class=\"data row2 col6\" >68838074392.000000</td>\n",
              "            </tr>\n",
              "            <tr>\n",
              "                        <th id=\"T_29308d68_2160_11ec_ae6f_0242ac1c0002level0_row3\" class=\"row_heading level0 row3\" >129</th>\n",
              "                        <td id=\"T_29308d68_2160_11ec_ae6f_0242ac1c0002row3_col0\" class=\"data row3 col0\" >2021-02-05</td>\n",
              "                        <td id=\"T_29308d68_2160_11ec_ae6f_0242ac1c0002row3_col1\" class=\"data row3 col1\" >36931.546875</td>\n",
              "                        <td id=\"T_29308d68_2160_11ec_ae6f_0242ac1c0002row3_col2\" class=\"data row3 col2\" >38225.906250</td>\n",
              "                        <td id=\"T_29308d68_2160_11ec_ae6f_0242ac1c0002row3_col3\" class=\"data row3 col3\" >36658.761719</td>\n",
              "                        <td id=\"T_29308d68_2160_11ec_ae6f_0242ac1c0002row3_col4\" class=\"data row3 col4\" >38144.308594</td>\n",
              "                        <td id=\"T_29308d68_2160_11ec_ae6f_0242ac1c0002row3_col5\" class=\"data row3 col5\" >38144.308594</td>\n",
              "                        <td id=\"T_29308d68_2160_11ec_ae6f_0242ac1c0002row3_col6\" class=\"data row3 col6\" >58598066402.000000</td>\n",
              "            </tr>\n",
              "            <tr>\n",
              "                        <th id=\"T_29308d68_2160_11ec_ae6f_0242ac1c0002level0_row4\" class=\"row_heading level0 row4\" >130</th>\n",
              "                        <td id=\"T_29308d68_2160_11ec_ae6f_0242ac1c0002row4_col0\" class=\"data row4 col0\" >2021-02-06</td>\n",
              "                        <td id=\"T_29308d68_2160_11ec_ae6f_0242ac1c0002row4_col1\" class=\"data row4 col1\" >38138.386719</td>\n",
              "                        <td id=\"T_29308d68_2160_11ec_ae6f_0242ac1c0002row4_col2\" class=\"data row4 col2\" >40846.546875</td>\n",
              "                        <td id=\"T_29308d68_2160_11ec_ae6f_0242ac1c0002row4_col3\" class=\"data row4 col3\" >38138.386719</td>\n",
              "                        <td id=\"T_29308d68_2160_11ec_ae6f_0242ac1c0002row4_col4\" class=\"data row4 col4\" >39266.011719</td>\n",
              "                        <td id=\"T_29308d68_2160_11ec_ae6f_0242ac1c0002row4_col5\" class=\"data row4 col5\" >39266.011719</td>\n",
              "                        <td id=\"T_29308d68_2160_11ec_ae6f_0242ac1c0002row4_col6\" class=\"data row4 col6\" >71326033653.000000</td>\n",
              "            </tr>\n",
              "            <tr>\n",
              "                        <th id=\"T_29308d68_2160_11ec_ae6f_0242ac1c0002level0_row5\" class=\"row_heading level0 row5\" >131</th>\n",
              "                        <td id=\"T_29308d68_2160_11ec_ae6f_0242ac1c0002row5_col0\" class=\"data row5 col0\" >2021-02-07</td>\n",
              "                        <td id=\"T_29308d68_2160_11ec_ae6f_0242ac1c0002row5_col1\" class=\"data row5 col1\" >39250.191406</td>\n",
              "                        <td id=\"T_29308d68_2160_11ec_ae6f_0242ac1c0002row5_col2\" class=\"data row5 col2\" >39621.835938</td>\n",
              "                        <td id=\"T_29308d68_2160_11ec_ae6f_0242ac1c0002row5_col3\" class=\"data row5 col3\" >37446.152344</td>\n",
              "                        <td id=\"T_29308d68_2160_11ec_ae6f_0242ac1c0002row5_col4\" class=\"data row5 col4\" >38903.441406</td>\n",
              "                        <td id=\"T_29308d68_2160_11ec_ae6f_0242ac1c0002row5_col5\" class=\"data row5 col5\" >38903.441406</td>\n",
              "                        <td id=\"T_29308d68_2160_11ec_ae6f_0242ac1c0002row5_col6\" class=\"data row5 col6\" >65500641143.000000</td>\n",
              "            </tr>\n",
              "            <tr>\n",
              "                        <th id=\"T_29308d68_2160_11ec_ae6f_0242ac1c0002level0_row6\" class=\"row_heading level0 row6\" >132</th>\n",
              "                        <td id=\"T_29308d68_2160_11ec_ae6f_0242ac1c0002row6_col0\" class=\"data row6 col0\" >2021-02-08</td>\n",
              "                        <td id=\"T_29308d68_2160_11ec_ae6f_0242ac1c0002row6_col1\" class=\"data row6 col1\" >38886.828125</td>\n",
              "                        <td id=\"T_29308d68_2160_11ec_ae6f_0242ac1c0002row6_col2\" class=\"data row6 col2\" >46203.929688</td>\n",
              "                        <td id=\"T_29308d68_2160_11ec_ae6f_0242ac1c0002row6_col3\" class=\"data row6 col3\" >38076.324219</td>\n",
              "                        <td id=\"T_29308d68_2160_11ec_ae6f_0242ac1c0002row6_col4\" class=\"data row6 col4\" >46196.464844</td>\n",
              "                        <td id=\"T_29308d68_2160_11ec_ae6f_0242ac1c0002row6_col5\" class=\"data row6 col5\" >46196.464844</td>\n",
              "                        <td id=\"T_29308d68_2160_11ec_ae6f_0242ac1c0002row6_col6\" class=\"data row6 col6\" >101467222687.000000</td>\n",
              "            </tr>\n",
              "            <tr>\n",
              "                        <th id=\"T_29308d68_2160_11ec_ae6f_0242ac1c0002level0_row7\" class=\"row_heading level0 row7\" >133</th>\n",
              "                        <td id=\"T_29308d68_2160_11ec_ae6f_0242ac1c0002row7_col0\" class=\"data row7 col0\" >2021-02-09</td>\n",
              "                        <td id=\"T_29308d68_2160_11ec_ae6f_0242ac1c0002row7_col1\" class=\"data row7 col1\" >46184.992188</td>\n",
              "                        <td id=\"T_29308d68_2160_11ec_ae6f_0242ac1c0002row7_col2\" class=\"data row7 col2\" >48003.722656</td>\n",
              "                        <td id=\"T_29308d68_2160_11ec_ae6f_0242ac1c0002row7_col3\" class=\"data row7 col3\" >45166.960938</td>\n",
              "                        <td id=\"T_29308d68_2160_11ec_ae6f_0242ac1c0002row7_col4\" class=\"data row7 col4\" >46481.105469</td>\n",
              "                        <td id=\"T_29308d68_2160_11ec_ae6f_0242ac1c0002row7_col5\" class=\"data row7 col5\" >46481.105469</td>\n",
              "                        <td id=\"T_29308d68_2160_11ec_ae6f_0242ac1c0002row7_col6\" class=\"data row7 col6\" >91809846886.000000</td>\n",
              "            </tr>\n",
              "            <tr>\n",
              "                        <th id=\"T_29308d68_2160_11ec_ae6f_0242ac1c0002level0_row8\" class=\"row_heading level0 row8\" >134</th>\n",
              "                        <td id=\"T_29308d68_2160_11ec_ae6f_0242ac1c0002row8_col0\" class=\"data row8 col0\" >2021-02-10</td>\n",
              "                        <td id=\"T_29308d68_2160_11ec_ae6f_0242ac1c0002row8_col1\" class=\"data row8 col1\" >46469.761719</td>\n",
              "                        <td id=\"T_29308d68_2160_11ec_ae6f_0242ac1c0002row8_col2\" class=\"data row8 col2\" >47145.566406</td>\n",
              "                        <td id=\"T_29308d68_2160_11ec_ae6f_0242ac1c0002row8_col3\" class=\"data row8 col3\" >43881.152344</td>\n",
              "                        <td id=\"T_29308d68_2160_11ec_ae6f_0242ac1c0002row8_col4\" class=\"data row8 col4\" >44918.183594</td>\n",
              "                        <td id=\"T_29308d68_2160_11ec_ae6f_0242ac1c0002row8_col5\" class=\"data row8 col5\" >44918.183594</td>\n",
              "                        <td id=\"T_29308d68_2160_11ec_ae6f_0242ac1c0002row8_col6\" class=\"data row8 col6\" >87301089896.000000</td>\n",
              "            </tr>\n",
              "            <tr>\n",
              "                        <th id=\"T_29308d68_2160_11ec_ae6f_0242ac1c0002level0_row9\" class=\"row_heading level0 row9\" >135</th>\n",
              "                        <td id=\"T_29308d68_2160_11ec_ae6f_0242ac1c0002row9_col0\" class=\"data row9 col0\" >2021-02-11</td>\n",
              "                        <td id=\"T_29308d68_2160_11ec_ae6f_0242ac1c0002row9_col1\" class=\"data row9 col1\" >44898.710938</td>\n",
              "                        <td id=\"T_29308d68_2160_11ec_ae6f_0242ac1c0002row9_col2\" class=\"data row9 col2\" >48463.468750</td>\n",
              "                        <td id=\"T_29308d68_2160_11ec_ae6f_0242ac1c0002row9_col3\" class=\"data row9 col3\" >44187.761719</td>\n",
              "                        <td id=\"T_29308d68_2160_11ec_ae6f_0242ac1c0002row9_col4\" class=\"data row9 col4\" >47909.332031</td>\n",
              "                        <td id=\"T_29308d68_2160_11ec_ae6f_0242ac1c0002row9_col5\" class=\"data row9 col5\" >47909.332031</td>\n",
              "                        <td id=\"T_29308d68_2160_11ec_ae6f_0242ac1c0002row9_col6\" class=\"data row9 col6\" >81388911810.000000</td>\n",
              "            </tr>\n",
              "            <tr>\n",
              "                        <th id=\"T_29308d68_2160_11ec_ae6f_0242ac1c0002level0_row10\" class=\"row_heading level0 row10\" >136</th>\n",
              "                        <td id=\"T_29308d68_2160_11ec_ae6f_0242ac1c0002row10_col0\" class=\"data row10 col0\" >2021-02-12</td>\n",
              "                        <td id=\"T_29308d68_2160_11ec_ae6f_0242ac1c0002row10_col1\" class=\"data row10 col1\" >47877.035156</td>\n",
              "                        <td id=\"T_29308d68_2160_11ec_ae6f_0242ac1c0002row10_col2\" class=\"data row10 col2\" >48745.734375</td>\n",
              "                        <td id=\"T_29308d68_2160_11ec_ae6f_0242ac1c0002row10_col3\" class=\"data row10 col3\" >46424.976563</td>\n",
              "                        <td id=\"T_29308d68_2160_11ec_ae6f_0242ac1c0002row10_col4\" class=\"data row10 col4\" >47504.851563</td>\n",
              "                        <td id=\"T_29308d68_2160_11ec_ae6f_0242ac1c0002row10_col5\" class=\"data row10 col5\" >47504.851563</td>\n",
              "                        <td id=\"T_29308d68_2160_11ec_ae6f_0242ac1c0002row10_col6\" class=\"data row10 col6\" >76555041196.000000</td>\n",
              "            </tr>\n",
              "            <tr>\n",
              "                        <th id=\"T_29308d68_2160_11ec_ae6f_0242ac1c0002level0_row11\" class=\"row_heading level0 row11\" >137</th>\n",
              "                        <td id=\"T_29308d68_2160_11ec_ae6f_0242ac1c0002row11_col0\" class=\"data row11 col0\" >2021-02-13</td>\n",
              "                        <td id=\"T_29308d68_2160_11ec_ae6f_0242ac1c0002row11_col1\" class=\"data row11 col1\" >47491.203125</td>\n",
              "                        <td id=\"T_29308d68_2160_11ec_ae6f_0242ac1c0002row11_col2\" class=\"data row11 col2\" >48047.746094</td>\n",
              "                        <td id=\"T_29308d68_2160_11ec_ae6f_0242ac1c0002row11_col3\" class=\"data row11 col3\" >46392.281250</td>\n",
              "                        <td id=\"T_29308d68_2160_11ec_ae6f_0242ac1c0002row11_col4\" class=\"data row11 col4\" >47105.515625</td>\n",
              "                        <td id=\"T_29308d68_2160_11ec_ae6f_0242ac1c0002row11_col5\" class=\"data row11 col5\" >47105.515625</td>\n",
              "                        <td id=\"T_29308d68_2160_11ec_ae6f_0242ac1c0002row11_col6\" class=\"data row11 col6\" >70250456155.000000</td>\n",
              "            </tr>\n",
              "            <tr>\n",
              "                        <th id=\"T_29308d68_2160_11ec_ae6f_0242ac1c0002level0_row12\" class=\"row_heading level0 row12\" >138</th>\n",
              "                        <td id=\"T_29308d68_2160_11ec_ae6f_0242ac1c0002row12_col0\" class=\"data row12 col0\" >2021-02-14</td>\n",
              "                        <td id=\"T_29308d68_2160_11ec_ae6f_0242ac1c0002row12_col1\" class=\"data row12 col1\" >47114.507813</td>\n",
              "                        <td id=\"T_29308d68_2160_11ec_ae6f_0242ac1c0002row12_col2\" class=\"data row12 col2\" >49487.640625</td>\n",
              "                        <td id=\"T_29308d68_2160_11ec_ae6f_0242ac1c0002row12_col3\" class=\"data row12 col3\" >47114.507813</td>\n",
              "                        <td id=\"T_29308d68_2160_11ec_ae6f_0242ac1c0002row12_col4\" class=\"data row12 col4\" >48717.289063</td>\n",
              "                        <td id=\"T_29308d68_2160_11ec_ae6f_0242ac1c0002row12_col5\" class=\"data row12 col5\" >48717.289063</td>\n",
              "                        <td id=\"T_29308d68_2160_11ec_ae6f_0242ac1c0002row12_col6\" class=\"data row12 col6\" >71248675228.000000</td>\n",
              "            </tr>\n",
              "            <tr>\n",
              "                        <th id=\"T_29308d68_2160_11ec_ae6f_0242ac1c0002level0_row13\" class=\"row_heading level0 row13\" >139</th>\n",
              "                        <td id=\"T_29308d68_2160_11ec_ae6f_0242ac1c0002row13_col0\" class=\"data row13 col0\" >2021-02-15</td>\n",
              "                        <td id=\"T_29308d68_2160_11ec_ae6f_0242ac1c0002row13_col1\" class=\"data row13 col1\" >48696.535156</td>\n",
              "                        <td id=\"T_29308d68_2160_11ec_ae6f_0242ac1c0002row13_col2\" class=\"data row13 col2\" >48875.570313</td>\n",
              "                        <td id=\"T_29308d68_2160_11ec_ae6f_0242ac1c0002row13_col3\" class=\"data row13 col3\" >46347.476563</td>\n",
              "                        <td id=\"T_29308d68_2160_11ec_ae6f_0242ac1c0002row13_col4\" class=\"data row13 col4\" >47945.058594</td>\n",
              "                        <td id=\"T_29308d68_2160_11ec_ae6f_0242ac1c0002row13_col5\" class=\"data row13 col5\" >47945.058594</td>\n",
              "                        <td id=\"T_29308d68_2160_11ec_ae6f_0242ac1c0002row13_col6\" class=\"data row13 col6\" >77069903166.000000</td>\n",
              "            </tr>\n",
              "            <tr>\n",
              "                        <th id=\"T_29308d68_2160_11ec_ae6f_0242ac1c0002level0_row14\" class=\"row_heading level0 row14\" >140</th>\n",
              "                        <td id=\"T_29308d68_2160_11ec_ae6f_0242ac1c0002row14_col0\" class=\"data row14 col0\" >2021-02-16</td>\n",
              "                        <td id=\"T_29308d68_2160_11ec_ae6f_0242ac1c0002row14_col1\" class=\"data row14 col1\" >47944.457031</td>\n",
              "                        <td id=\"T_29308d68_2160_11ec_ae6f_0242ac1c0002row14_col2\" class=\"data row14 col2\" >50341.101563</td>\n",
              "                        <td id=\"T_29308d68_2160_11ec_ae6f_0242ac1c0002row14_col3\" class=\"data row14 col3\" >47201.304688</td>\n",
              "                        <td id=\"T_29308d68_2160_11ec_ae6f_0242ac1c0002row14_col4\" class=\"data row14 col4\" >49199.871094</td>\n",
              "                        <td id=\"T_29308d68_2160_11ec_ae6f_0242ac1c0002row14_col5\" class=\"data row14 col5\" >49199.871094</td>\n",
              "                        <td id=\"T_29308d68_2160_11ec_ae6f_0242ac1c0002row14_col6\" class=\"data row14 col6\" >77049582886.000000</td>\n",
              "            </tr>\n",
              "            <tr>\n",
              "                        <th id=\"T_29308d68_2160_11ec_ae6f_0242ac1c0002level0_row15\" class=\"row_heading level0 row15\" >141</th>\n",
              "                        <td id=\"T_29308d68_2160_11ec_ae6f_0242ac1c0002row15_col0\" class=\"data row15 col0\" >2021-02-17</td>\n",
              "                        <td id=\"T_29308d68_2160_11ec_ae6f_0242ac1c0002row15_col1\" class=\"data row15 col1\" >49207.277344</td>\n",
              "                        <td id=\"T_29308d68_2160_11ec_ae6f_0242ac1c0002row15_col2\" class=\"data row15 col2\" >52533.914063</td>\n",
              "                        <td id=\"T_29308d68_2160_11ec_ae6f_0242ac1c0002row15_col3\" class=\"data row15 col3\" >49072.378906</td>\n",
              "                        <td id=\"T_29308d68_2160_11ec_ae6f_0242ac1c0002row15_col4\" class=\"data row15 col4\" >52149.007813</td>\n",
              "                        <td id=\"T_29308d68_2160_11ec_ae6f_0242ac1c0002row15_col5\" class=\"data row15 col5\" >52149.007813</td>\n",
              "                        <td id=\"T_29308d68_2160_11ec_ae6f_0242ac1c0002row15_col6\" class=\"data row15 col6\" >80820545404.000000</td>\n",
              "            </tr>\n",
              "            <tr>\n",
              "                        <th id=\"T_29308d68_2160_11ec_ae6f_0242ac1c0002level0_row16\" class=\"row_heading level0 row16\" >142</th>\n",
              "                        <td id=\"T_29308d68_2160_11ec_ae6f_0242ac1c0002row16_col0\" class=\"data row16 col0\" >2021-02-18</td>\n",
              "                        <td id=\"T_29308d68_2160_11ec_ae6f_0242ac1c0002row16_col1\" class=\"data row16 col1\" >52140.972656</td>\n",
              "                        <td id=\"T_29308d68_2160_11ec_ae6f_0242ac1c0002row16_col2\" class=\"data row16 col2\" >52474.105469</td>\n",
              "                        <td id=\"T_29308d68_2160_11ec_ae6f_0242ac1c0002row16_col3\" class=\"data row16 col3\" >51015.765625</td>\n",
              "                        <td id=\"T_29308d68_2160_11ec_ae6f_0242ac1c0002row16_col4\" class=\"data row16 col4\" >51679.796875</td>\n",
              "                        <td id=\"T_29308d68_2160_11ec_ae6f_0242ac1c0002row16_col5\" class=\"data row16 col5\" >51679.796875</td>\n",
              "                        <td id=\"T_29308d68_2160_11ec_ae6f_0242ac1c0002row16_col6\" class=\"data row16 col6\" >52054723579.000000</td>\n",
              "            </tr>\n",
              "            <tr>\n",
              "                        <th id=\"T_29308d68_2160_11ec_ae6f_0242ac1c0002level0_row17\" class=\"row_heading level0 row17\" >143</th>\n",
              "                        <td id=\"T_29308d68_2160_11ec_ae6f_0242ac1c0002row17_col0\" class=\"data row17 col0\" >2021-02-19</td>\n",
              "                        <td id=\"T_29308d68_2160_11ec_ae6f_0242ac1c0002row17_col1\" class=\"data row17 col1\" >51675.980469</td>\n",
              "                        <td id=\"T_29308d68_2160_11ec_ae6f_0242ac1c0002row17_col2\" class=\"data row17 col2\" >56113.652344</td>\n",
              "                        <td id=\"T_29308d68_2160_11ec_ae6f_0242ac1c0002row17_col3\" class=\"data row17 col3\" >50937.277344</td>\n",
              "                        <td id=\"T_29308d68_2160_11ec_ae6f_0242ac1c0002row17_col4\" class=\"data row17 col4\" >55888.132813</td>\n",
              "                        <td id=\"T_29308d68_2160_11ec_ae6f_0242ac1c0002row17_col5\" class=\"data row17 col5\" >55888.132813</td>\n",
              "                        <td id=\"T_29308d68_2160_11ec_ae6f_0242ac1c0002row17_col6\" class=\"data row17 col6\" >63495496918.000000</td>\n",
              "            </tr>\n",
              "            <tr>\n",
              "                        <th id=\"T_29308d68_2160_11ec_ae6f_0242ac1c0002level0_row18\" class=\"row_heading level0 row18\" >144</th>\n",
              "                        <td id=\"T_29308d68_2160_11ec_ae6f_0242ac1c0002row18_col0\" class=\"data row18 col0\" >2021-02-20</td>\n",
              "                        <td id=\"T_29308d68_2160_11ec_ae6f_0242ac1c0002row18_col1\" class=\"data row18 col1\" >55887.335938</td>\n",
              "                        <td id=\"T_29308d68_2160_11ec_ae6f_0242ac1c0002row18_col2\" class=\"data row18 col2\" >57505.226563</td>\n",
              "                        <td id=\"T_29308d68_2160_11ec_ae6f_0242ac1c0002row18_col3\" class=\"data row18 col3\" >54626.558594</td>\n",
              "                        <td id=\"T_29308d68_2160_11ec_ae6f_0242ac1c0002row18_col4\" class=\"data row18 col4\" >56099.519531</td>\n",
              "                        <td id=\"T_29308d68_2160_11ec_ae6f_0242ac1c0002row18_col5\" class=\"data row18 col5\" >56099.519531</td>\n",
              "                        <td id=\"T_29308d68_2160_11ec_ae6f_0242ac1c0002row18_col6\" class=\"data row18 col6\" >68145460026.000000</td>\n",
              "            </tr>\n",
              "            <tr>\n",
              "                        <th id=\"T_29308d68_2160_11ec_ae6f_0242ac1c0002level0_row19\" class=\"row_heading level0 row19\" >145</th>\n",
              "                        <td id=\"T_29308d68_2160_11ec_ae6f_0242ac1c0002row19_col0\" class=\"data row19 col0\" >2021-02-21</td>\n",
              "                        <td id=\"T_29308d68_2160_11ec_ae6f_0242ac1c0002row19_col1\" class=\"data row19 col1\" >56068.566406</td>\n",
              "                        <td id=\"T_29308d68_2160_11ec_ae6f_0242ac1c0002row19_col2\" class=\"data row19 col2\" >58330.570313</td>\n",
              "                        <td id=\"T_29308d68_2160_11ec_ae6f_0242ac1c0002row19_col3\" class=\"data row19 col3\" >55672.609375</td>\n",
              "                        <td id=\"T_29308d68_2160_11ec_ae6f_0242ac1c0002row19_col4\" class=\"data row19 col4\" >57539.945313</td>\n",
              "                        <td id=\"T_29308d68_2160_11ec_ae6f_0242ac1c0002row19_col5\" class=\"data row19 col5\" >57539.945313</td>\n",
              "                        <td id=\"T_29308d68_2160_11ec_ae6f_0242ac1c0002row19_col6\" class=\"data row19 col6\" >51897585191.000000</td>\n",
              "            </tr>\n",
              "            <tr>\n",
              "                        <th id=\"T_29308d68_2160_11ec_ae6f_0242ac1c0002level0_row20\" class=\"row_heading level0 row20\" >146</th>\n",
              "                        <td id=\"T_29308d68_2160_11ec_ae6f_0242ac1c0002row20_col0\" class=\"data row20 col0\" >2021-02-22</td>\n",
              "                        <td id=\"T_29308d68_2160_11ec_ae6f_0242ac1c0002row20_col1\" class=\"data row20 col1\" >57532.738281</td>\n",
              "                        <td id=\"T_29308d68_2160_11ec_ae6f_0242ac1c0002row20_col2\" class=\"data row20 col2\" >57533.390625</td>\n",
              "                        <td id=\"T_29308d68_2160_11ec_ae6f_0242ac1c0002row20_col3\" class=\"data row20 col3\" >48967.566406</td>\n",
              "                        <td id=\"T_29308d68_2160_11ec_ae6f_0242ac1c0002row20_col4\" class=\"data row20 col4\" >54207.320313</td>\n",
              "                        <td id=\"T_29308d68_2160_11ec_ae6f_0242ac1c0002row20_col5\" class=\"data row20 col5\" >54207.320313</td>\n",
              "                        <td id=\"T_29308d68_2160_11ec_ae6f_0242ac1c0002row20_col6\" class=\"data row20 col6\" >92052420332.000000</td>\n",
              "            </tr>\n",
              "            <tr>\n",
              "                        <th id=\"T_29308d68_2160_11ec_ae6f_0242ac1c0002level0_row21\" class=\"row_heading level0 row21\" >147</th>\n",
              "                        <td id=\"T_29308d68_2160_11ec_ae6f_0242ac1c0002row21_col0\" class=\"data row21 col0\" >2021-02-23</td>\n",
              "                        <td id=\"T_29308d68_2160_11ec_ae6f_0242ac1c0002row21_col1\" class=\"data row21 col1\" >54204.929688</td>\n",
              "                        <td id=\"T_29308d68_2160_11ec_ae6f_0242ac1c0002row21_col2\" class=\"data row21 col2\" >54204.929688</td>\n",
              "                        <td id=\"T_29308d68_2160_11ec_ae6f_0242ac1c0002row21_col3\" class=\"data row21 col3\" >45290.589844</td>\n",
              "                        <td id=\"T_29308d68_2160_11ec_ae6f_0242ac1c0002row21_col4\" class=\"data row21 col4\" >48824.425781</td>\n",
              "                        <td id=\"T_29308d68_2160_11ec_ae6f_0242ac1c0002row21_col5\" class=\"data row21 col5\" >48824.425781</td>\n",
              "                        <td id=\"T_29308d68_2160_11ec_ae6f_0242ac1c0002row21_col6\" class=\"data row21 col6\" >106102492824.000000</td>\n",
              "            </tr>\n",
              "            <tr>\n",
              "                        <th id=\"T_29308d68_2160_11ec_ae6f_0242ac1c0002level0_row22\" class=\"row_heading level0 row22\" >148</th>\n",
              "                        <td id=\"T_29308d68_2160_11ec_ae6f_0242ac1c0002row22_col0\" class=\"data row22 col0\" >2021-02-24</td>\n",
              "                        <td id=\"T_29308d68_2160_11ec_ae6f_0242ac1c0002row22_col1\" class=\"data row22 col1\" >48835.085938</td>\n",
              "                        <td id=\"T_29308d68_2160_11ec_ae6f_0242ac1c0002row22_col2\" class=\"data row22 col2\" >51290.136719</td>\n",
              "                        <td id=\"T_29308d68_2160_11ec_ae6f_0242ac1c0002row22_col3\" class=\"data row22 col3\" >47213.500000</td>\n",
              "                        <td id=\"T_29308d68_2160_11ec_ae6f_0242ac1c0002row22_col4\" class=\"data row22 col4\" >49705.332031</td>\n",
              "                        <td id=\"T_29308d68_2160_11ec_ae6f_0242ac1c0002row22_col5\" class=\"data row22 col5\" >49705.332031</td>\n",
              "                        <td id=\"T_29308d68_2160_11ec_ae6f_0242ac1c0002row22_col6\" class=\"data row22 col6\" >63695521388.000000</td>\n",
              "            </tr>\n",
              "            <tr>\n",
              "                        <th id=\"T_29308d68_2160_11ec_ae6f_0242ac1c0002level0_row23\" class=\"row_heading level0 row23\" >149</th>\n",
              "                        <td id=\"T_29308d68_2160_11ec_ae6f_0242ac1c0002row23_col0\" class=\"data row23 col0\" >2021-02-25</td>\n",
              "                        <td id=\"T_29308d68_2160_11ec_ae6f_0242ac1c0002row23_col1\" class=\"data row23 col1\" >49709.082031</td>\n",
              "                        <td id=\"T_29308d68_2160_11ec_ae6f_0242ac1c0002row23_col2\" class=\"data row23 col2\" >51948.968750</td>\n",
              "                        <td id=\"T_29308d68_2160_11ec_ae6f_0242ac1c0002row23_col3\" class=\"data row23 col3\" >47093.851563</td>\n",
              "                        <td id=\"T_29308d68_2160_11ec_ae6f_0242ac1c0002row23_col4\" class=\"data row23 col4\" >47093.851563</td>\n",
              "                        <td id=\"T_29308d68_2160_11ec_ae6f_0242ac1c0002row23_col5\" class=\"data row23 col5\" >47093.851563</td>\n",
              "                        <td id=\"T_29308d68_2160_11ec_ae6f_0242ac1c0002row23_col6\" class=\"data row23 col6\" >54506565949.000000</td>\n",
              "            </tr>\n",
              "            <tr>\n",
              "                        <th id=\"T_29308d68_2160_11ec_ae6f_0242ac1c0002level0_row24\" class=\"row_heading level0 row24\" >150</th>\n",
              "                        <td id=\"T_29308d68_2160_11ec_ae6f_0242ac1c0002row24_col0\" class=\"data row24 col0\" >2021-02-26</td>\n",
              "                        <td id=\"T_29308d68_2160_11ec_ae6f_0242ac1c0002row24_col1\" class=\"data row24 col1\" >47180.464844</td>\n",
              "                        <td id=\"T_29308d68_2160_11ec_ae6f_0242ac1c0002row24_col2\" class=\"data row24 col2\" >48370.785156</td>\n",
              "                        <td id=\"T_29308d68_2160_11ec_ae6f_0242ac1c0002row24_col3\" class=\"data row24 col3\" >44454.843750</td>\n",
              "                        <td id=\"T_29308d68_2160_11ec_ae6f_0242ac1c0002row24_col4\" class=\"data row24 col4\" >46339.761719</td>\n",
              "                        <td id=\"T_29308d68_2160_11ec_ae6f_0242ac1c0002row24_col5\" class=\"data row24 col5\" >46339.761719</td>\n",
              "                        <td id=\"T_29308d68_2160_11ec_ae6f_0242ac1c0002row24_col6\" class=\"data row24 col6\" >350967941479.000000</td>\n",
              "            </tr>\n",
              "            <tr>\n",
              "                        <th id=\"T_29308d68_2160_11ec_ae6f_0242ac1c0002level0_row25\" class=\"row_heading level0 row25\" >151</th>\n",
              "                        <td id=\"T_29308d68_2160_11ec_ae6f_0242ac1c0002row25_col0\" class=\"data row25 col0\" >2021-02-27</td>\n",
              "                        <td id=\"T_29308d68_2160_11ec_ae6f_0242ac1c0002row25_col1\" class=\"data row25 col1\" >46344.773438</td>\n",
              "                        <td id=\"T_29308d68_2160_11ec_ae6f_0242ac1c0002row25_col2\" class=\"data row25 col2\" >48253.269531</td>\n",
              "                        <td id=\"T_29308d68_2160_11ec_ae6f_0242ac1c0002row25_col3\" class=\"data row25 col3\" >45269.027344</td>\n",
              "                        <td id=\"T_29308d68_2160_11ec_ae6f_0242ac1c0002row25_col4\" class=\"data row25 col4\" >46188.453125</td>\n",
              "                        <td id=\"T_29308d68_2160_11ec_ae6f_0242ac1c0002row25_col5\" class=\"data row25 col5\" >46188.453125</td>\n",
              "                        <td id=\"T_29308d68_2160_11ec_ae6f_0242ac1c0002row25_col6\" class=\"data row25 col6\" >45910946382.000000</td>\n",
              "            </tr>\n",
              "            <tr>\n",
              "                        <th id=\"T_29308d68_2160_11ec_ae6f_0242ac1c0002level0_row26\" class=\"row_heading level0 row26\" >152</th>\n",
              "                        <td id=\"T_29308d68_2160_11ec_ae6f_0242ac1c0002row26_col0\" class=\"data row26 col0\" >2021-02-28</td>\n",
              "                        <td id=\"T_29308d68_2160_11ec_ae6f_0242ac1c0002row26_col1\" class=\"data row26 col1\" >46194.015625</td>\n",
              "                        <td id=\"T_29308d68_2160_11ec_ae6f_0242ac1c0002row26_col2\" class=\"data row26 col2\" >46716.429688</td>\n",
              "                        <td id=\"T_29308d68_2160_11ec_ae6f_0242ac1c0002row26_col3\" class=\"data row26 col3\" >43241.617188</td>\n",
              "                        <td id=\"T_29308d68_2160_11ec_ae6f_0242ac1c0002row26_col4\" class=\"data row26 col4\" >45137.769531</td>\n",
              "                        <td id=\"T_29308d68_2160_11ec_ae6f_0242ac1c0002row26_col5\" class=\"data row26 col5\" >45137.769531</td>\n",
              "                        <td id=\"T_29308d68_2160_11ec_ae6f_0242ac1c0002row26_col6\" class=\"data row26 col6\" >53443887451.000000</td>\n",
              "            </tr>\n",
              "    </tbody></table>"
            ],
            "text/plain": [
              "<pandas.io.formats.style.Styler at 0x7efcd8362cd0>"
            ]
          },
          "metadata": {},
          "execution_count": 10
        }
      ]
    },
    {
      "cell_type": "markdown",
      "metadata": {
        "id": "sm2iwUoMJRZi"
      },
      "source": [
        "After checking from a different source, the Volume for 2021-02-26 seems to be correct (USD 350.967.941.479). Looks like that day was crazy.\n",
        "https://coinmarketcap.com/historical/20210226/"
      ]
    },
    {
      "cell_type": "markdown",
      "metadata": {
        "id": "ZH3Cve6pJRZi"
      },
      "source": [
        "# Preprocessing the data"
      ]
    },
    {
      "cell_type": "code",
      "metadata": {
        "id": "m5o3AyWSJRZj"
      },
      "source": [
        "# droppping firsts observations becuase they may not be representative of BTC behaviour now due to beginnings of crypto market\n",
        "df = df.tail(n_past_total)"
      ],
      "execution_count": 11,
      "outputs": []
    },
    {
      "cell_type": "code",
      "metadata": {
        "colab": {
          "base_uri": "https://localhost:8080/"
        },
        "id": "pFwTdFK3JRZj",
        "outputId": "9a2131dd-0cfa-4e32-efd3-4154ffa6de4a"
      },
      "source": [
        "# train test split\n",
        "training_set = df.values\n",
        "print('training_set.shape:\\t', training_set.shape)"
      ],
      "execution_count": 12,
      "outputs": [
        {
          "output_type": "stream",
          "name": "stdout",
          "text": [
            "training_set.shape:\t (366, 2)\n"
          ]
        }
      ]
    },
    {
      "cell_type": "code",
      "metadata": {
        "colab": {
          "base_uri": "https://localhost:8080/"
        },
        "id": "saOYbaK4JRZj",
        "outputId": "9982e8c5-8285-4c7c-dc9e-53388c9e61ec"
      },
      "source": [
        "# scale\n",
        "sc = MinMaxScaler(feature_range=(0,1))\n",
        "training_set_scaled = sc.fit_transform(training_set)\n",
        "print('training_set_scaled.shape: ', training_set_scaled.shape)\n",
        "training_set_scaled"
      ],
      "execution_count": 13,
      "outputs": [
        {
          "output_type": "stream",
          "name": "stdout",
          "text": [
            "training_set_scaled.shape:  (366, 2)\n"
          ]
        },
        {
          "output_type": "execute_result",
          "data": {
            "text/plain": [
              "array([[0.00535224, 0.01008123],\n",
              "       [0.00419595, 0.01097903],\n",
              "       [0.00109254, 0.03020367],\n",
              "       [0.00037158, 0.01807218],\n",
              "       [0.        , 0.        ],\n",
              "       [0.0022467 , 0.00135615],\n",
              "       [0.00450542, 0.00686241],\n",
              "       [0.00106107, 0.01548773],\n",
              "       [0.00214673, 0.00161851],\n",
              "       [0.00676518, 0.01458069],\n",
              "       [0.00676518, 0.01458069],\n",
              "       [0.01380613, 0.01732381],\n",
              "       [0.01546505, 0.00860989],\n",
              "       [0.01546505, 0.00860989],\n",
              "       [0.01546505, 0.00860989],\n",
              "       [0.01632125, 0.0209942 ],\n",
              "       [0.01756502, 0.02214376],\n",
              "       [0.01429277, 0.02558292],\n",
              "       [0.0149724 , 0.00609937],\n",
              "       [0.01733853, 0.00356214],\n",
              "       [0.02222496, 0.02026741],\n",
              "       [0.02551745, 0.04139829],\n",
              "       [0.04265741, 0.07883425],\n",
              "       [0.04534361, 0.05282158],\n",
              "       [0.04469469, 0.03558518],\n",
              "       [0.04802922, 0.02230874],\n",
              "       [0.04657679, 0.02190321],\n",
              "       [0.04740936, 0.03704227],\n",
              "       [0.05834613, 0.0498867 ],\n",
              "       [0.05111251, 0.05622873],\n",
              "       [0.05425954, 0.11802506],\n",
              "       [0.05631175, 0.04039691],\n",
              "       [0.06074095, 0.03957318],\n",
              "       [0.05991194, 0.02204379],\n",
              "       [0.05638668, 0.0409659 ],\n",
              "       [0.06393913, 0.03826576],\n",
              "       [0.06740369, 0.05397952],\n",
              "       [0.09472135, 0.07117151],\n",
              "       [0.0944575 , 0.06812102],\n",
              "       [0.0806276 , 0.05370573],\n",
              "       [0.09282703, 0.02856786],\n",
              "       [0.09004544, 0.05108247],\n",
              "       [0.08926315, 0.02540159],\n",
              "       [0.09701632, 0.03797351],\n",
              "       [0.10787817, 0.05116227],\n",
              "       [0.10866144, 0.04344599],\n",
              "       [0.10394517, 0.03111264],\n",
              "       [0.10181908, 0.01964771],\n",
              "       [0.11618539, 0.04322816],\n",
              "       [0.13373981, 0.06563207],\n",
              "       [0.13673576, 0.09575707],\n",
              "       [0.13698292, 0.05957651],\n",
              "       [0.15217475, 0.05959993],\n",
              "       [0.15256989, 0.06755903],\n",
              "       [0.14742745, 0.07244179],\n",
              "       [0.14731636, 0.07681673],\n",
              "       [0.16135815, 0.10295968],\n",
              "       [0.15426789, 0.07971975],\n",
              "       [0.12439334, 0.13269328],\n",
              "       [0.12359578, 0.0652716 ],\n",
              "       [0.13510004, 0.04644577],\n",
              "       [0.14379078, 0.04205164],\n",
              "       [0.17115019, 0.0917546 ],\n",
              "       [0.15560676, 0.09746088],\n",
              "       [0.16312676, 0.06078248],\n",
              "       [0.16774172, 0.04443685],\n",
              "       [0.15365669, 0.05025363],\n",
              "       [0.16224155, 0.03039604],\n",
              "       [0.16584748, 0.02455947],\n",
              "       [0.16294804, 0.02935943],\n",
              "       [0.14650453, 0.04372392],\n",
              "       [0.15090159, 0.05189493],\n",
              "       [0.14544381, 0.0253183 ],\n",
              "       [0.1415508 , 0.03242431],\n",
              "       [0.15561919, 0.01395308],\n",
              "       [0.16201775, 0.02502878],\n",
              "       [0.16398725, 0.01611383],\n",
              "       [0.16720671, 0.02889705],\n",
              "       [0.2029754 , 0.08181232],\n",
              "       [0.23120778, 0.1625901 ],\n",
              "       [0.23749436, 0.06976851],\n",
              "       [0.25131943, 0.06407669],\n",
              "       [0.24390439, 0.06214986],\n",
              "       [0.23116848, 0.08613642],\n",
              "       [0.24967972, 0.08110134],\n",
              "       [0.2394473 , 0.10199105],\n",
              "       [0.24879038, 0.07184373],\n",
              "       [0.26633623, 0.07480184],\n",
              "       [0.29981402, 0.09356417],\n",
              "       [0.29670204, 0.14791776],\n",
              "       [0.31205045, 0.09573294],\n",
              "       [0.31729487, 0.08437896],\n",
              "       [0.34522408, 0.1024142 ],\n",
              "       [0.34826099, 0.08883879],\n",
              "       [0.35529623, 0.07079406],\n",
              "       [0.40730268, 0.15206761],\n",
              "       [0.41967104, 0.18441459],\n",
              "       [0.40436804, 0.19189718],\n",
              "       [0.44253566, 0.15111487],\n",
              "       [0.49603098, 0.17430359],\n",
              "       [0.54413785, 0.20267569],\n",
              "       [0.57108574, 0.21269558],\n",
              "       [0.56082727, 0.1344524 ],\n",
              "       [0.52497199, 0.18835474],\n",
              "       [0.47227285, 0.31816368],\n",
              "       [0.44122339, 0.17275763],\n",
              "       [0.5053248 , 0.15655701],\n",
              "       [0.54066747, 0.13933996],\n",
              "       [0.49604994, 0.15175413],\n",
              "       [0.48382381, 0.12163926],\n",
              "       [0.47651595, 0.10562623],\n",
              "       [0.49236085, 0.09709561],\n",
              "       [0.48177734, 0.12025553],\n",
              "       [0.47191571, 0.14898007],\n",
              "       [0.38271601, 0.17536277],\n",
              "       [0.42389746, 0.18004779],\n",
              "       [0.40617636, 0.09363033],\n",
              "       [0.41036497, 0.09449621],\n",
              "       [0.41181976, 0.12820122],\n",
              "       [0.41566307, 0.12927458],\n",
              "       [0.37528934, 0.13622732],\n",
              "       [0.39827962, 0.185262  ],\n",
              "       [0.44865521, 0.30191205],\n",
              "       [0.44776997, 0.14391006],\n",
              "       [0.42594888, 0.10680838],\n",
              "       [0.43393589, 0.13270395],\n",
              "       [0.47120807, 0.13776031],\n",
              "       [0.50826656, 0.13200434],\n",
              "       [0.49795216, 0.15498085],\n",
              "       [0.52096479, 0.12431056],\n",
              "       [0.54215381, 0.16243264],\n",
              "       [0.53530484, 0.14498476],\n",
              "       [0.67307031, 0.25270979],\n",
              "       [0.67844718, 0.22378458],\n",
              "       [0.64892353, 0.21028021],\n",
              "       [0.70542643, 0.19257239],\n",
              "       [0.69778578, 0.17809426],\n",
              "       [0.69024231, 0.15921113],\n",
              "       [0.72068877, 0.16220094],\n",
              "       [0.70610131, 0.17963635],\n",
              "       [0.72980476, 0.17957548],\n",
              "       [0.78551405, 0.19087005],\n",
              "       [0.77665064, 0.10471232],\n",
              "       [0.85614626, 0.13897906],\n",
              "       [0.86013936, 0.15290637],\n",
              "       [0.88734905, 0.10424167],\n",
              "       [0.82439565, 0.22451112],\n",
              "       [0.72271258, 0.26659309],\n",
              "       [0.73935293, 0.13957817],\n",
              "       [0.69002198, 0.11205594],\n",
              "       [0.67577719, 1.        ],\n",
              "       [0.67291897, 0.08631083],\n",
              "       [0.65307152, 0.10887306],\n",
              "       [0.73795337, 0.11021313],\n",
              "       [0.71429825, 0.09116281],\n",
              "       [0.75508664, 0.10820492],\n",
              "       [0.71773963, 0.10557819],\n",
              "       [0.72465597, 0.09444259],\n",
              "       [0.72437409, 0.05172478],\n",
              "       [0.76771366, 0.07800384],\n",
              "       [0.78735613, 0.09435723],\n",
              "       [0.83604696, 0.10129038],\n",
              "       [0.85842096, 0.12040942],\n",
              "       [0.89235823, 0.11884226],\n",
              "       [0.88342266, 0.11560032],\n",
              "       [0.95730151, 0.13051579],\n",
              "       [0.92064031, 0.08029143],\n",
              "       [0.85650642, 0.14773648],\n",
              "       [0.87346407, 0.12776016],\n",
              "       [0.91249073, 0.12928324],\n",
              "       [0.89337453, 0.11576834],\n",
              "       [0.90258778, 0.0957543 ],\n",
              "       [0.90196426, 0.09964156],\n",
              "       [0.88703693, 0.10437893],\n",
              "       [0.83047492, 0.11809082],\n",
              "       [0.83443807, 0.11783194],\n",
              "       [0.7973252 , 0.16015989],\n",
              "       [0.77711087, 0.15247013],\n",
              "       [0.84196324, 0.11848241],\n",
              "       [0.85775907, 0.09037103],\n",
              "       [0.85732902, 0.09162911],\n",
              "       [0.89132076, 0.12139785],\n",
              "       [0.91337473, 0.11177904],\n",
              "       [0.91339627, 0.14504521],\n",
              "       [0.91673937, 0.13350894],\n",
              "       [0.92218921, 0.12469931],\n",
              "       [0.88855698, 0.12743533],\n",
              "       [0.91036863, 0.10080348],\n",
              "       [0.91602287, 0.13062494],\n",
              "       [0.89967318, 0.14665421],\n",
              "       [0.85918386, 0.17536947],\n",
              "       [0.90215899, 0.10770486],\n",
              "       [0.90066764, 0.08854   ],\n",
              "       [0.92991376, 0.12323352],\n",
              "       [0.93769137, 0.08741695],\n",
              "       [0.9318069 , 0.10403531],\n",
              "       [1.        , 0.15841142],\n",
              "       [0.99256183, 0.18078012],\n",
              "       [0.99642137, 0.13136806],\n",
              "       [0.96352961, 0.20127057],\n",
              "       [0.94673696, 0.14689601],\n",
              "       [0.86234315, 0.24073417],\n",
              "       [0.8530508 , 0.14451819],\n",
              "       [0.86719501, 0.1520194 ],\n",
              "       [0.8187054 , 0.11331403],\n",
              "       [0.77820863, 0.17283356],\n",
              "       [0.76557835, 0.20838601],\n",
              "       [0.7458801 , 0.0956064 ],\n",
              "       [0.72610954, 0.08692833],\n",
              "       [0.82089029, 0.12337001],\n",
              "       [0.83999498, 0.09690548],\n",
              "       [0.83605803, 0.09256956],\n",
              "       [0.81207536, 0.08684392],\n",
              "       [0.89132031, 0.10573429],\n",
              "       [0.89279138, 0.07710221],\n",
              "       [0.87018052, 0.06314777],\n",
              "       [0.88093301, 0.10368922],\n",
              "       [0.80788989, 0.15416207],\n",
              "       [0.88515899, 0.15618861],\n",
              "       [0.86574963, 0.15703315],\n",
              "       [0.88388192, 0.15377065],\n",
              "       [0.91122289, 0.14463235],\n",
              "       [0.90042797, 0.14620093],\n",
              "       [0.85561099, 0.16378199],\n",
              "       [0.87156886, 0.13242839],\n",
              "       [0.7288728 , 0.17408186],\n",
              "       [0.73955807, 0.23849464],\n",
              "       [0.74266253, 0.11574275],\n",
              "       [0.68371905, 0.12599677],\n",
              "       [0.67797404, 0.14063351],\n",
              "       [0.62284259, 0.17314807],\n",
              "       [0.61097758, 0.11709017],\n",
              "       [0.49939488, 0.32726151],\n",
              "       [0.57080482, 0.213218  ],\n",
              "       [0.5051044 , 0.19455729],\n",
              "       [0.50948578, 0.12065411],\n",
              "       [0.45723498, 0.18382766],\n",
              "       [0.5315748 , 0.15055256],\n",
              "       [0.5258368 , 0.1171637 ],\n",
              "       [0.54268627, 0.10259179],\n",
              "       [0.52649315, 0.07822401],\n",
              "       [0.47474649, 0.11413344],\n",
              "       [0.45431617, 0.08427433],\n",
              "       [0.47437857, 0.04358553],\n",
              "       [0.50563642, 0.06564106],\n",
              "       [0.493397  , 0.05255101],\n",
              "       [0.51021393, 0.04785296],\n",
              "       [0.54107242, 0.055011  ],\n",
              "       [0.49735409, 0.07409108],\n",
              "       [0.47199518, 0.05650475],\n",
              "       [0.47785906, 0.03540088],\n",
              "       [0.4343804 , 0.04968919],\n",
              "       [0.43271667, 0.09826476],\n",
              "       [0.50586811, 0.11045759],\n",
              "       [0.49373082, 0.07931743],\n",
              "       [0.50566556, 0.06471223],\n",
              "       [0.47200573, 0.06238947],\n",
              "       [0.5389774 , 0.07061079],\n",
              "       [0.5601459 , 0.07803815],\n",
              "       [0.56369332, 0.08783596],\n",
              "       [0.52479482, 0.06624544],\n",
              "       [0.51924949, 0.05991082],\n",
              "       [0.4764398 , 0.05722782],\n",
              "       [0.47320252, 0.04227125],\n",
              "       [0.47475955, 0.05861501],\n",
              "       [0.39879131, 0.1069716 ],\n",
              "       [0.41445053, 0.12540764],\n",
              "       [0.43744664, 0.08752734],\n",
              "       [0.45519213, 0.04801021],\n",
              "       [0.39805623, 0.06929829],\n",
              "       [0.40841737, 0.06436973],\n",
              "       [0.45495047, 0.05516343],\n",
              "       [0.45088328, 0.05031394],\n",
              "       [0.47796104, 0.06232128],\n",
              "       [0.46234009, 0.05081267],\n",
              "       [0.43459594, 0.06213407],\n",
              "       [0.44073387, 0.0647998 ],\n",
              "       [0.45530753, 0.02183443],\n",
              "       [0.46700489, 0.02345286],\n",
              "       [0.43788066, 0.02883587],\n",
              "       [0.44712151, 0.02817605],\n",
              "       [0.4399458 , 0.02306864],\n",
              "       [0.42147216, 0.0383869 ],\n",
              "       [0.43886309, 0.0309758 ],\n",
              "       [0.43362126, 0.01760504],\n",
              "       [0.44721581, 0.00902951],\n",
              "       [0.42673259, 0.02164736],\n",
              "       [0.41815987, 0.00607069],\n",
              "       [0.42043276, 0.01282676],\n",
              "       [0.40075658, 0.01259911],\n",
              "       [0.39397144, 0.01978431],\n",
              "       [0.39607823, 0.00539428],\n",
              "       [0.40106033, 0.0050737 ],\n",
              "       [0.38256739, 0.01000611],\n",
              "       [0.36347931, 0.01813336],\n",
              "       [0.40698959, 0.03327308],\n",
              "       [0.41081316, 0.00737171],\n",
              "       [0.43477414, 0.0163476 ],\n",
              "       [0.44820296, 0.01368989],\n",
              "       [0.46818375, 0.01126975],\n",
              "       [0.50572482, 0.10161954],\n",
              "       [0.54481597, 0.05392263],\n",
              "       [0.55594154, 0.06472022],\n",
              "       [0.55617796, 0.03017048],\n",
              "       [0.59824843, 0.0478587 ],\n",
              "       [0.58673776, 0.0260842 ],\n",
              "       [0.55554463, 0.02873668],\n",
              "       [0.54094359, 0.02546247],\n",
              "       [0.52112861, 0.02724328],\n",
              "       [0.55124921, 0.02479544],\n",
              "       [0.57244479, 0.05418518],\n",
              "       [0.60922265, 0.06329477],\n",
              "       [0.64207811, 0.06869914],\n",
              "       [0.62776544, 0.05753266],\n",
              "       [0.67626154, 0.06481509],\n",
              "       [0.66152031, 0.04927611],\n",
              "       [0.66168286, 0.05159342],\n",
              "       [0.63966941, 0.04980805],\n",
              "       [0.70323496, 0.04387958],\n",
              "       [0.69008042, 0.04228346],\n",
              "       [0.68913702, 0.04161735],\n",
              "       [0.66944379, 0.04697242],\n",
              "       [0.64471437, 0.0489926 ],\n",
              "       [0.64671347, 0.04522699],\n",
              "       [0.68291416, 0.06023322],\n",
              "       [0.73243623, 0.05275302],\n",
              "       [0.72424393, 0.07035948],\n",
              "       [0.73210521, 0.02479069],\n",
              "       [0.73634595, 0.05154953],\n",
              "       [0.70158769, 0.05471274],\n",
              "       [0.72528849, 0.04658147],\n",
              "       [0.68715763, 0.04664197],\n",
              "       [0.72713743, 0.0521666 ],\n",
              "       [0.72418556, 0.03436654],\n",
              "       [0.72281471, 0.02634419],\n",
              "       [0.68928777, 0.04418733],\n",
              "       [0.69139785, 0.05282339],\n",
              "       [0.72313953, 0.06602908],\n",
              "       [0.73221988, 0.0671333 ],\n",
              "       [0.74539856, 0.07820967],\n",
              "       [0.74387319, 0.06103297],\n",
              "       [0.7780412 , 0.03962174],\n",
              "       [0.79466679, 0.06526444],\n",
              "       [0.68468133, 0.14411442],\n",
              "       [0.67108545, 0.09558624],\n",
              "       [0.67675305, 0.06463112],\n",
              "       [0.6482761 , 0.06607481],\n",
              "       [0.65427458, 0.05213293],\n",
              "       [0.67055424, 0.03231151],\n",
              "       [0.64977152, 0.07151182],\n",
              "       [0.6899963 , 0.06456971],\n",
              "       [0.71047036, 0.04010641],\n",
              "       [0.7030468 , 0.04393959],\n",
              "       [0.69330257, 0.0348446 ],\n",
              "       [0.71239744, 0.03438909],\n",
              "       [0.69316466, 0.02957318],\n",
              "       [0.60973837, 0.08031725],\n",
              "       [0.56912243, 0.09466771],\n",
              "       [0.62354145, 0.06303487],\n",
              "       [0.64848744, 0.05136686],\n",
              "       [0.60966185, 0.07711095],\n",
              "       [0.60733542, 0.04346163],\n",
              "       [0.61662829, 0.04063573],\n",
              "       [0.5982519 , 0.0415906 ],\n",
              "       [0.57556142, 0.03929906],\n",
              "       [0.57983271, 0.03918462]])"
            ]
          },
          "metadata": {},
          "execution_count": 13
        }
      ]
    },
    {
      "cell_type": "code",
      "metadata": {
        "colab": {
          "base_uri": "https://localhost:8080/"
        },
        "id": "5O_mUG1NJRZk",
        "outputId": "422224ae-0032-402d-e760-48d0054d3a10"
      },
      "source": [
        "# creating a data structure with 60 timesteps and 1 output\n",
        "X_train = []\n",
        "y_train = []\n",
        "\n",
        "for i in range(n_past, len(training_set_scaled) - n_future + 1):\n",
        "    X_train.append(training_set_scaled[i-n_past:i, :])\n",
        "    y_train.append(training_set_scaled[i:i+n_future, 0])\n",
        "\n",
        "X_train, y_train = np.array(X_train), np.array(y_train)\n",
        "X_train.shape, y_train.shape"
      ],
      "execution_count": 14,
      "outputs": [
        {
          "output_type": "execute_result",
          "data": {
            "text/plain": [
              "((327, 30, 2), (327, 10))"
            ]
          },
          "metadata": {},
          "execution_count": 14
        }
      ]
    },
    {
      "cell_type": "code",
      "metadata": {
        "colab": {
          "base_uri": "https://localhost:8080/"
        },
        "id": "6XENeTkeJRZk",
        "outputId": "ad1d4818-2e1b-411e-e47e-ef3273b7234e"
      },
      "source": [
        "# reshaping (needed to fit RNN)\n",
        "X_train = np.reshape(X_train, (X_train.shape[0], X_train.shape[1], n_features))\n",
        "X_train.shape"
      ],
      "execution_count": 15,
      "outputs": [
        {
          "output_type": "execute_result",
          "data": {
            "text/plain": [
              "(327, 30, 2)"
            ]
          },
          "metadata": {},
          "execution_count": 15
        }
      ]
    },
    {
      "cell_type": "code",
      "metadata": {
        "pycharm": {
          "name": "#%%\n"
        },
        "colab": {
          "base_uri": "https://localhost:8080/"
        },
        "id": "wXz7PkCCJRZl",
        "outputId": "ccd8008d-a6e1-44b4-ee76-d368412b1c31"
      },
      "source": [
        "# Building the RNN\n",
        "\n",
        "# Initialising the RNN\n",
        "regressor = Sequential()\n",
        "\n",
        "# Input layer\n",
        "regressor.add(LSTM(units=n_past, return_sequences=True, activation=activation, input_shape=(X_train.shape[1], n_features)))\n",
        "#regressor.add(LSTM(units=neurons, return_sequences=True, activation=activation, input_shape=(X_train.shape[1], 1)))\n",
        "\n",
        "# Hidden layers\n",
        "for _ in range(n_layers):\n",
        "    regressor.add(Dropout(dropout))\n",
        "    regressor.add(LSTM(units=n_neurons, return_sequences=True, activation=activation))\n",
        "\n",
        "# Last hidden layer (changing the return_sequences)\n",
        "regressor.add(Dropout(dropout))\n",
        "regressor.add(LSTM(units=n_neurons, return_sequences=False, activation=activation))\n",
        "\n",
        "# Adding the output layer\n",
        "regressor.add(Dense(units=n_future))\n",
        "\n",
        "# Compiling the RNN\n",
        "regressor.compile(optimizer=optimizer, loss='mse')\n",
        "\n",
        "# Model summary\n",
        "regressor.summary()"
      ],
      "execution_count": 16,
      "outputs": [
        {
          "output_type": "stream",
          "name": "stdout",
          "text": [
            "Model: \"sequential\"\n",
            "_________________________________________________________________\n",
            "Layer (type)                 Output Shape              Param #   \n",
            "=================================================================\n",
            "lstm (LSTM)                  (None, 30, 30)            3960      \n",
            "_________________________________________________________________\n",
            "dropout (Dropout)            (None, 30, 30)            0         \n",
            "_________________________________________________________________\n",
            "lstm_1 (LSTM)                (None, 30, 20)            4080      \n",
            "_________________________________________________________________\n",
            "dropout_1 (Dropout)          (None, 30, 20)            0         \n",
            "_________________________________________________________________\n",
            "lstm_2 (LSTM)                (None, 30, 20)            3280      \n",
            "_________________________________________________________________\n",
            "dropout_2 (Dropout)          (None, 30, 20)            0         \n",
            "_________________________________________________________________\n",
            "lstm_3 (LSTM)                (None, 30, 20)            3280      \n",
            "_________________________________________________________________\n",
            "dropout_3 (Dropout)          (None, 30, 20)            0         \n",
            "_________________________________________________________________\n",
            "lstm_4 (LSTM)                (None, 30, 20)            3280      \n",
            "_________________________________________________________________\n",
            "dropout_4 (Dropout)          (None, 30, 20)            0         \n",
            "_________________________________________________________________\n",
            "lstm_5 (LSTM)                (None, 30, 20)            3280      \n",
            "_________________________________________________________________\n",
            "dropout_5 (Dropout)          (None, 30, 20)            0         \n",
            "_________________________________________________________________\n",
            "lstm_6 (LSTM)                (None, 30, 20)            3280      \n",
            "_________________________________________________________________\n",
            "dropout_6 (Dropout)          (None, 30, 20)            0         \n",
            "_________________________________________________________________\n",
            "lstm_7 (LSTM)                (None, 30, 20)            3280      \n",
            "_________________________________________________________________\n",
            "dropout_7 (Dropout)          (None, 30, 20)            0         \n",
            "_________________________________________________________________\n",
            "lstm_8 (LSTM)                (None, 30, 20)            3280      \n",
            "_________________________________________________________________\n",
            "dropout_8 (Dropout)          (None, 30, 20)            0         \n",
            "_________________________________________________________________\n",
            "lstm_9 (LSTM)                (None, 20)                3280      \n",
            "_________________________________________________________________\n",
            "dense (Dense)                (None, 10)                210       \n",
            "=================================================================\n",
            "Total params: 34,490\n",
            "Trainable params: 34,490\n",
            "Non-trainable params: 0\n",
            "_________________________________________________________________\n"
          ]
        }
      ]
    },
    {
      "cell_type": "code",
      "metadata": {
        "pycharm": {
          "name": "#%%\n"
        },
        "id": "39_IkRFbJRZl"
      },
      "source": [
        "# Adding early stopping\n",
        "early_stop = EarlyStopping(monitor='val_loss', mode='min', verbose=1, patience=patience)"
      ],
      "execution_count": 17,
      "outputs": []
    },
    {
      "cell_type": "code",
      "metadata": {
        "pycharm": {
          "name": "#%%\n"
        },
        "colab": {
          "base_uri": "https://localhost:8080/"
        },
        "id": "qpiCJjNcJRZm",
        "outputId": "6452048a-f215-4d51-fe86-e43642630d5e"
      },
      "source": [
        "# Fitting the RNN to the Training set\n",
        "res = regressor.fit(X_train, y_train\n",
        "                    , batch_size=32\n",
        "                    , epochs=750\n",
        "                    , validation_split=0.1\n",
        "                    , callbacks=[early_stop]\n",
        "                   )"
      ],
      "execution_count": 18,
      "outputs": [
        {
          "output_type": "stream",
          "name": "stdout",
          "text": [
            "Epoch 1/750\n",
            "10/10 [==============================] - 16s 308ms/step - loss: 0.3338 - val_loss: 0.3945\n",
            "Epoch 2/750\n",
            "10/10 [==============================] - 1s 151ms/step - loss: 0.2579 - val_loss: 0.2645\n",
            "Epoch 3/750\n",
            "10/10 [==============================] - 2s 153ms/step - loss: 0.1696 - val_loss: 0.1347\n",
            "Epoch 4/750\n",
            "10/10 [==============================] - 1s 150ms/step - loss: 0.1094 - val_loss: 0.0601\n",
            "Epoch 5/750\n",
            "10/10 [==============================] - 1s 146ms/step - loss: 0.0826 - val_loss: 0.0306\n",
            "Epoch 6/750\n",
            "10/10 [==============================] - 1s 143ms/step - loss: 0.0671 - val_loss: 0.0272\n",
            "Epoch 7/750\n",
            "10/10 [==============================] - 1s 141ms/step - loss: 0.0642 - val_loss: 0.0192\n",
            "Epoch 8/750\n",
            "10/10 [==============================] - 1s 141ms/step - loss: 0.0638 - val_loss: 0.0232\n",
            "Epoch 9/750\n",
            "10/10 [==============================] - 1s 146ms/step - loss: 0.0639 - val_loss: 0.0224\n",
            "Epoch 10/750\n",
            "10/10 [==============================] - 1s 141ms/step - loss: 0.0612 - val_loss: 0.0197\n",
            "Epoch 11/750\n",
            "10/10 [==============================] - 1s 145ms/step - loss: 0.0457 - val_loss: 0.0102\n",
            "Epoch 12/750\n",
            "10/10 [==============================] - 1s 141ms/step - loss: 0.0339 - val_loss: 0.0045\n",
            "Epoch 13/750\n",
            "10/10 [==============================] - 1s 147ms/step - loss: 0.0305 - val_loss: 0.0045\n",
            "Epoch 14/750\n",
            "10/10 [==============================] - 1s 144ms/step - loss: 0.0301 - val_loss: 0.0037\n",
            "Epoch 15/750\n",
            "10/10 [==============================] - 1s 144ms/step - loss: 0.0295 - val_loss: 0.0031\n",
            "Epoch 16/750\n",
            "10/10 [==============================] - 1s 142ms/step - loss: 0.0296 - val_loss: 0.0036\n",
            "Epoch 17/750\n",
            "10/10 [==============================] - 1s 146ms/step - loss: 0.0293 - val_loss: 0.0033\n",
            "Epoch 18/750\n",
            "10/10 [==============================] - 1s 142ms/step - loss: 0.0301 - val_loss: 0.0030\n",
            "Epoch 19/750\n",
            "10/10 [==============================] - 1s 148ms/step - loss: 0.0289 - val_loss: 0.0036\n",
            "Epoch 20/750\n",
            "10/10 [==============================] - 1s 144ms/step - loss: 0.0287 - val_loss: 0.0028\n",
            "Epoch 21/750\n",
            "10/10 [==============================] - 1s 147ms/step - loss: 0.0285 - val_loss: 0.0027\n",
            "Epoch 22/750\n",
            "10/10 [==============================] - 1s 146ms/step - loss: 0.0291 - val_loss: 0.0039\n",
            "Epoch 23/750\n",
            "10/10 [==============================] - 1s 145ms/step - loss: 0.0294 - val_loss: 0.0029\n",
            "Epoch 24/750\n",
            "10/10 [==============================] - 1s 143ms/step - loss: 0.0293 - val_loss: 0.0061\n",
            "Epoch 25/750\n",
            "10/10 [==============================] - 1s 143ms/step - loss: 0.0272 - val_loss: 0.0029\n",
            "Epoch 26/750\n",
            "10/10 [==============================] - 1s 142ms/step - loss: 0.0274 - val_loss: 0.0037\n",
            "Epoch 27/750\n",
            "10/10 [==============================] - 1s 141ms/step - loss: 0.0258 - val_loss: 0.0030\n",
            "Epoch 28/750\n",
            "10/10 [==============================] - 1s 143ms/step - loss: 0.0243 - val_loss: 0.0068\n",
            "Epoch 29/750\n",
            "10/10 [==============================] - 1s 143ms/step - loss: 0.0270 - val_loss: 0.0065\n",
            "Epoch 30/750\n",
            "10/10 [==============================] - 1s 152ms/step - loss: 0.0258 - val_loss: 0.0040\n",
            "Epoch 31/750\n",
            "10/10 [==============================] - 1s 146ms/step - loss: 0.0236 - val_loss: 0.0042\n",
            "Epoch 32/750\n",
            "10/10 [==============================] - 1s 141ms/step - loss: 0.0222 - val_loss: 0.0041\n",
            "Epoch 33/750\n",
            "10/10 [==============================] - 1s 142ms/step - loss: 0.0225 - val_loss: 0.0047\n",
            "Epoch 34/750\n",
            "10/10 [==============================] - 1s 142ms/step - loss: 0.0226 - val_loss: 0.0059\n",
            "Epoch 35/750\n",
            "10/10 [==============================] - 1s 142ms/step - loss: 0.0226 - val_loss: 0.0061\n",
            "Epoch 36/750\n",
            "10/10 [==============================] - 1s 146ms/step - loss: 0.0221 - val_loss: 0.0054\n",
            "Epoch 37/750\n",
            "10/10 [==============================] - 1s 142ms/step - loss: 0.0220 - val_loss: 0.0047\n",
            "Epoch 38/750\n",
            "10/10 [==============================] - 1s 143ms/step - loss: 0.0212 - val_loss: 0.0056\n",
            "Epoch 39/750\n",
            "10/10 [==============================] - 1s 150ms/step - loss: 0.0209 - val_loss: 0.0071\n",
            "Epoch 40/750\n",
            "10/10 [==============================] - 1s 143ms/step - loss: 0.0198 - val_loss: 0.0055\n",
            "Epoch 41/750\n",
            "10/10 [==============================] - 1s 149ms/step - loss: 0.0195 - val_loss: 0.0050\n",
            "Epoch 42/750\n",
            "10/10 [==============================] - 1s 147ms/step - loss: 0.0191 - val_loss: 0.0050\n",
            "Epoch 43/750\n",
            "10/10 [==============================] - 1s 145ms/step - loss: 0.0184 - val_loss: 0.0067\n",
            "Epoch 44/750\n",
            "10/10 [==============================] - 1s 140ms/step - loss: 0.0175 - val_loss: 0.0074\n",
            "Epoch 45/750\n",
            "10/10 [==============================] - 1s 148ms/step - loss: 0.0176 - val_loss: 0.0111\n",
            "Epoch 46/750\n",
            "10/10 [==============================] - 1s 142ms/step - loss: 0.0178 - val_loss: 0.0046\n",
            "Epoch 00046: early stopping\n"
          ]
        }
      ]
    },
    {
      "cell_type": "code",
      "metadata": {
        "pycharm": {
          "name": "#%%\n"
        },
        "id": "fguvWn7-JRZm"
      },
      "source": [
        "# Exporting the regressor\n",
        "last_date = dataset.Date.values[-1]\n",
        "params = ['reg', last_date, n_past_total, n_past, n_future, activation, n_layers, n_neurons, n_features, patience, optimizer]\n",
        "modelname = 'output/'\n",
        "for i in params:\n",
        "    modelname += str(i)\n",
        "    if i!= params[-1]:\n",
        "        modelname += '_'\n",
        "if not os.path.exists(modelname):\n",
        "    os.makedirs(modelname)\n",
        "regressor.save('{}/regressor.h5'.format(modelname))"
      ],
      "execution_count": 19,
      "outputs": []
    },
    {
      "cell_type": "code",
      "metadata": {
        "pycharm": {
          "name": "#%%\n"
        },
        "colab": {
          "base_uri": "https://localhost:8080/"
        },
        "id": "nuyzVMsKJRZm",
        "outputId": "dcbba5f6-b439-4568-d541-1c9a55c12d30"
      },
      "source": [
        "list(res.history)"
      ],
      "execution_count": 20,
      "outputs": [
        {
          "output_type": "execute_result",
          "data": {
            "text/plain": [
              "['loss', 'val_loss']"
            ]
          },
          "metadata": {},
          "execution_count": 20
        }
      ]
    },
    {
      "cell_type": "markdown",
      "metadata": {
        "id": "uvjLC7M1JRZn"
      },
      "source": [
        "# Validation"
      ]
    },
    {
      "cell_type": "code",
      "metadata": {
        "scrolled": true,
        "colab": {
          "base_uri": "https://localhost:8080/",
          "height": 295
        },
        "id": "1xvsvNWbJRZn",
        "outputId": "0285d7ba-312d-4a45-f8f6-c8d82f90899a"
      },
      "source": [
        "# Plotting Loss/MSE\n",
        "\n",
        "results = res\n",
        "\n",
        "history = results.history\n",
        "plt.figure(figsize=(12,4))\n",
        "plt.plot(history['val_loss'])\n",
        "plt.plot(history['loss'])\n",
        "plt.legend(['val_loss', 'loss'])\n",
        "plt.title('Loss')\n",
        "plt.xlabel('Epochs')\n",
        "plt.ylabel('Loss')\n",
        "plt.savefig('{}/Loss.png'.format(modelname))\n",
        "plt.show()"
      ],
      "execution_count": 21,
      "outputs": [
        {
          "output_type": "display_data",
          "data": {
            "image/png": "[encoded data removed]",
            "text/plain": [
              "<Figure size 864x288 with 1 Axes>"
            ]
          },
          "metadata": {
            "needs_background": "light"
          }
        }
      ]
    },
    {
      "cell_type": "code",
      "metadata": {
        "id": "90rDGqs5JRZn"
      },
      "source": [
        "def dummy_invscaler(y, n_features):\n",
        "    '''\n",
        "    Since the scaler was trained into 2 features, it needs two features to perform the inverse scaleer.\n",
        "    For that purpose, this function will create a dummy array and concatenate it to the y_pred/y_true.\n",
        "    That dummy of ones will be drop after performing the inverse_transform.\n",
        "    INPUTS: array 'y', shape (X,)\n",
        "    '''\n",
        "    y = np.array(y).reshape(-1,1)\n",
        "    if n_features>1:\n",
        "        dummy = np.ones((len(y), n_features-1))\n",
        "        y = np.concatenate((y, dummy), axis=1)\n",
        "        y = sc.inverse_transform(y)\n",
        "        y = y[:,0]\n",
        "    else:\n",
        "        y = sc.inverse_transform(y)\n",
        "    return y"
      ],
      "execution_count": 22,
      "outputs": []
    },
    {
      "cell_type": "code",
      "metadata": {
        "colab": {
          "base_uri": "https://localhost:8080/",
          "height": 425
        },
        "id": "JgMJWIIyJRZn",
        "outputId": "d5286046-2a9b-4cf4-99e4-8a30c9e5dc15"
      },
      "source": [
        "# Validation\n",
        "\n",
        "# getting the predictions\n",
        "y_pred = regressor.predict(X_train[-1].reshape(1, n_past, n_features)).tolist()[0]\n",
        "y_pred = dummy_invscaler(y_pred, n_features)\n",
        "\n",
        "# creating a DF of the predicted prices\n",
        "y_pred_df = pd.DataFrame(y_pred, \n",
        "                         index=df[['Close']].tail(n_future).index, \n",
        "                         columns=df[['Close']].columns)\n",
        "\n",
        "# getting the true values\n",
        "y_true_df = df[['Close']].tail(n_past)\n",
        "y_true = y_true_df.tail(n_future).values\n",
        "\n",
        "print('y_pred:\\n', y_pred.tolist())\n",
        "print('y_true:\\n', y_true.tolist())\n",
        "\n",
        "# plotting the results\n",
        "plt.figure(figsize=(16,5))\n",
        "plt.plot(y_pred_df, label='Predicted')\n",
        "plt.plot(y_true_df, label='True')\n",
        "\n",
        "plt.title('BTC price Predicted vs True')\n",
        "plt.legend()\n",
        "plt.savefig('{}/Validation.png'.format(modelname))\n",
        "plt.show()"
      ],
      "execution_count": 23,
      "outputs": [
        {
          "output_type": "stream",
          "name": "stdout",
          "text": [
            "y_pred:\n",
            " [47153.07516621047, 46642.5397738259, 47000.794890735364, 46990.90918378641, 46857.34643579972, 47072.35504007955, 47247.80188447238, 47026.362679885504, 47084.75555980805, 47285.41994966402]\n",
            "y_true:\n",
            " [[42843.800781], [40693.675781], [43574.507813], [44895.097656], [42839.75], [42716.59375], [43208.539063], [42235.730469], [41034.542969], [41260.65625]]\n"
          ]
        },
        {
          "output_type": "display_data",
          "data": {
            "image/png": "[encoded data removed]",
            "text/plain": [
              "<Figure size 1152x360 with 1 Axes>"
            ]
          },
          "metadata": {
            "needs_background": "light"
          }
        }
      ]
    },
    {
      "cell_type": "code",
      "metadata": {
        "colab": {
          "base_uri": "https://localhost:8080/"
        },
        "id": "2jvUcXQrJRZo",
        "outputId": "f82b92dc-9bf2-4a95-dfec-70911a1c8f29"
      },
      "source": [
        "# Root Mean Square Error (RMSE)\n",
        "rmse = math.sqrt(mean_squared_error(y_true, y_pred))\n",
        "rmse"
      ],
      "execution_count": 24,
      "outputs": [
        {
          "output_type": "execute_result",
          "data": {
            "text/plain": [
              "4662.32867052507"
            ]
          },
          "metadata": {},
          "execution_count": 24
        }
      ]
    },
    {
      "cell_type": "code",
      "metadata": {
        "colab": {
          "base_uri": "https://localhost:8080/"
        },
        "id": "3_m0RTObJRZo",
        "outputId": "c2654600-8bfa-4bd8-fe57-717f30eebee7"
      },
      "source": [
        "# Mean Square Error (MSE)\n",
        "mse = mean_absolute_error(y_true, y_pred)\n",
        "mse"
      ],
      "execution_count": 25,
      "outputs": [
        {
          "output_type": "execute_result",
          "data": {
            "text/plain": [
              "4505.846603226737"
            ]
          },
          "metadata": {},
          "execution_count": 25
        }
      ]
    },
    {
      "cell_type": "code",
      "metadata": {
        "colab": {
          "base_uri": "https://localhost:8080/"
        },
        "id": "6AChGVdEJRZo",
        "outputId": "a8fec7b9-cec2-4bf9-c8fe-90915029b885"
      },
      "source": [
        "#Explained variance regression score function.\n",
        "explained_variance_score(y_true, y_pred)\n",
        "# Best possible score is 1.0, lower values are worse."
      ],
      "execution_count": 26,
      "outputs": [
        {
          "output_type": "execute_result",
          "data": {
            "text/plain": [
              "0.02275700990708429"
            ]
          },
          "metadata": {},
          "execution_count": 26
        }
      ]
    },
    {
      "cell_type": "markdown",
      "metadata": {
        "id": "BsmzWUHyJRZp"
      },
      "source": [
        "# Predictions"
      ]
    },
    {
      "cell_type": "code",
      "metadata": {
        "colab": {
          "base_uri": "https://localhost:8080/",
          "height": 425
        },
        "id": "ZaEYDEVdJRZp",
        "outputId": "b43cbf9a-3cbf-4e20-8230-42c3c2279b96"
      },
      "source": [
        "# Predicting/Forecasting\n",
        "\n",
        "# getting the predictions\n",
        "x = df[features][-n_past:].values\n",
        "x = sc.transform(x)\n",
        "y_pred = regressor.predict(x.reshape(1, n_past, n_features)).tolist()[0]\n",
        "y_pred = dummy_invscaler(y_pred, n_features)\n",
        "\n",
        "# creating a DF of the predicted prices\n",
        "y_pred_df = pd.DataFrame(y_pred, \n",
        "                         index=pd.date_range(start=df[['Close']].index[-1]+datetime.timedelta(days=1),\n",
        "                                             periods=len(y_pred), \n",
        "                                             freq=\"D\"), \n",
        "                         columns=df[['Close']].columns)\n",
        "\n",
        "# getting the true values\n",
        "y_true_df = df[['Close']].tail(n_past)\n",
        "\n",
        "# linking them\n",
        "#y_true_df = y_true_df.append(y_pred_df.head(1))\n",
        "y_pred_df = y_pred_df.append(y_true_df.tail(1)).sort_index()\n",
        "\n",
        "print('y_pred:\\n', y_pred.tolist())\n",
        "print('y_true:\\n', y_true.tolist())\n",
        "\n",
        "# plotting the results\n",
        "plt.figure(figsize=(16,5))\n",
        "plt.plot(y_pred_df, label='Predicted')\n",
        "plt.plot(y_true_df, label='True')\n",
        "\n",
        "plt.title('BTC price Predicted vs True')\n",
        "plt.legend()\n",
        "plt.savefig('{}/Predictions.png'.format(modelname))\n",
        "plt.show()"
      ],
      "execution_count": 27,
      "outputs": [
        {
          "output_type": "stream",
          "name": "stdout",
          "text": [
            "y_pred:\n",
            " [46553.571566633844, 46037.031545993974, 46373.76718591912, 46400.54347355679, 46289.374234097624, 46442.16883138335, 46732.70385811137, 46478.91917572886, 46601.22995085248, 46804.59531905136]\n",
            "y_true:\n",
            " [[42843.800781], [40693.675781], [43574.507813], [44895.097656], [42839.75], [42716.59375], [43208.539063], [42235.730469], [41034.542969], [41260.65625]]\n"
          ]
        },
        {
          "output_type": "display_data",
          "data": {
            "image/png": "[encoded data removed]",
            "text/plain": [
              "<Figure size 1152x360 with 1 Axes>"
            ]
          },
          "metadata": {
            "needs_background": "light"
          }
        }
      ]
    },
    {
      "cell_type": "code",
      "metadata": {
        "colab": {
          "base_uri": "https://localhost:8080/",
          "height": 394
        },
        "id": "E03HCJErJRZq",
        "outputId": "922eb077-ddcb-415a-d03a-0c1d7e3b7be7"
      },
      "source": [
        "# export to csv\n",
        "y_pred_df.to_csv('{}/preds_{}.csv'.format(modelname,n_future))\n",
        "# show\n",
        "y_pred_df"
      ],
      "execution_count": 28,
      "outputs": [
        {
          "output_type": "execute_result",
          "data": {
            "text/html": [
              "<div>\n",
              "<style scoped>\n",
              "    .dataframe tbody tr th:only-of-type {\n",
              "        vertical-align: middle;\n",
              "    }\n",
              "\n",
              "    .dataframe tbody tr th {\n",
              "        vertical-align: top;\n",
              "    }\n",
              "\n",
              "    .dataframe thead th {\n",
              "        text-align: right;\n",
              "    }\n",
              "</style>\n",
              "<table border=\"1\" class=\"dataframe\">\n",
              "  <thead>\n",
              "    <tr style=\"text-align: right;\">\n",
              "      <th></th>\n",
              "      <th>Close</th>\n",
              "    </tr>\n",
              "  </thead>\n",
              "  <tbody>\n",
              "    <tr>\n",
              "      <th>2021-09-29</th>\n",
              "      <td>41260.656</td>\n",
              "    </tr>\n",
              "    <tr>\n",
              "      <th>2021-09-30</th>\n",
              "      <td>46553.572</td>\n",
              "    </tr>\n",
              "    <tr>\n",
              "      <th>2021-10-01</th>\n",
              "      <td>46037.032</td>\n",
              "    </tr>\n",
              "    <tr>\n",
              "      <th>2021-10-02</th>\n",
              "      <td>46373.767</td>\n",
              "    </tr>\n",
              "    <tr>\n",
              "      <th>2021-10-03</th>\n",
              "      <td>46400.543</td>\n",
              "    </tr>\n",
              "    <tr>\n",
              "      <th>2021-10-04</th>\n",
              "      <td>46289.374</td>\n",
              "    </tr>\n",
              "    <tr>\n",
              "      <th>2021-10-05</th>\n",
              "      <td>46442.169</td>\n",
              "    </tr>\n",
              "    <tr>\n",
              "      <th>2021-10-06</th>\n",
              "      <td>46732.704</td>\n",
              "    </tr>\n",
              "    <tr>\n",
              "      <th>2021-10-07</th>\n",
              "      <td>46478.919</td>\n",
              "    </tr>\n",
              "    <tr>\n",
              "      <th>2021-10-08</th>\n",
              "      <td>46601.230</td>\n",
              "    </tr>\n",
              "    <tr>\n",
              "      <th>2021-10-09</th>\n",
              "      <td>46804.595</td>\n",
              "    </tr>\n",
              "  </tbody>\n",
              "</table>\n",
              "</div>"
            ],
            "text/plain": [
              "               Close\n",
              "2021-09-29 41260.656\n",
              "2021-09-30 46553.572\n",
              "2021-10-01 46037.032\n",
              "2021-10-02 46373.767\n",
              "2021-10-03 46400.543\n",
              "2021-10-04 46289.374\n",
              "2021-10-05 46442.169\n",
              "2021-10-06 46732.704\n",
              "2021-10-07 46478.919\n",
              "2021-10-08 46601.230\n",
              "2021-10-09 46804.595"
            ]
          },
          "metadata": {},
          "execution_count": 28
        }
      ]
    }
  ]
}